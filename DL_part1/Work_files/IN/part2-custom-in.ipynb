{
 "cells": [
  {
   "cell_type": "code",
   "execution_count": 1,
   "id": "b37c20b2",
   "metadata": {
    "_cell_guid": "b1076dfc-b9ad-4769-8c92-a6c4dae69d19",
    "_uuid": "8f2839f25d086af736a60e9eeb907d3b93b6e0e5",
    "execution": {
     "iopub.execute_input": "2024-03-28T14:11:57.970316Z",
     "iopub.status.busy": "2024-03-28T14:11:57.969525Z",
     "iopub.status.idle": "2024-03-28T14:12:05.757835Z",
     "shell.execute_reply": "2024-03-28T14:12:05.757008Z"
    },
    "papermill": {
     "duration": 7.794927,
     "end_time": "2024-03-28T14:12:05.760262",
     "exception": false,
     "start_time": "2024-03-28T14:11:57.965335",
     "status": "completed"
    },
    "tags": []
   },
   "outputs": [],
   "source": [
    "import os\n",
    "from time import time\n",
    "import numpy as np\n",
    "import matplotlib.pyplot as plt\n",
    "import torch\n",
    "import torchvision\n",
    "import torchvision.transforms as transforms\n",
    "import torch.optim as optim\n",
    "from torch.utils.data.dataloader import DataLoader\n",
    "from torch.utils.data import random_split\n",
    "from sklearn.metrics import r2_score, precision_score, recall_score, f1_score, confusion_matrix, accuracy_score\n",
    "from tqdm import tqdm"
   ]
  },
  {
   "cell_type": "code",
   "execution_count": 2,
   "id": "e387712c",
   "metadata": {
    "execution": {
     "iopub.execute_input": "2024-03-28T14:12:05.767576Z",
     "iopub.status.busy": "2024-03-28T14:12:05.767162Z",
     "iopub.status.idle": "2024-03-28T14:12:05.935550Z",
     "shell.execute_reply": "2024-03-28T14:12:05.934607Z"
    },
    "papermill": {
     "duration": 0.174407,
     "end_time": "2024-03-28T14:12:05.937514",
     "exception": false,
     "start_time": "2024-03-28T14:12:05.763107",
     "status": "completed"
    },
    "tags": []
   },
   "outputs": [],
   "source": [
    "# Implement from scratch the following normalization schemes. They should\n",
    "# be implemented as a sub-class of torch.nn.Module.\n",
    "\n",
    "# (a) Batch Normalization (BN) [3]\n",
    "# (b) Instance Normalization (IN) [7]\n",
    "# (c) Batch-Instance Normalization (BIN) [4]\n",
    "# (d) Layer Normalization (LN) [1]\n",
    "# (e) Group Normalization (GN) [8]\n",
    "\n",
    "import torch\n",
    "import torch.nn as nn\n",
    "\n",
    "class NoNormalise(nn.Module):\n",
    "    def __init__(self, num_features, eps=1e-5, momentum=0.1):\n",
    "        super(NoNormalise, self).__init__()\n",
    "        self.num_features = num_features\n",
    "        self.eps = eps\n",
    "        self.momentum = momentum\n",
    "        self.gamma = nn.Parameter(torch.ones(num_features))\n",
    "        self.beta = nn.Parameter(torch.zeros(num_features))\n",
    "\n",
    "    def forward(self, x):\n",
    "        return x\n",
    "\n",
    "class BatchNormalise(nn.Module):\n",
    "    def __init__(self, num_features, eps=1e-5, momentum=0.1):\n",
    "        super(BatchNormalise, self).__init__()\n",
    "        self.num_features = num_features\n",
    "        self.eps = eps\n",
    "        self.momentum = momentum\n",
    "        self.gamma = nn.Parameter(torch.ones(num_features))\n",
    "        self.beta = nn.Parameter(torch.zeros(num_features))\n",
    "        self.running_mean = 0\n",
    "        self.running_var = 0\n",
    "        # shape = (1, num_features, 1, 1)\n",
    "        \n",
    "    def forward(self, x):\n",
    "        if self.training:\n",
    "            mean = x.mean(dim=[0, 2, 3])\n",
    "            variance = x.var(dim=[0, 2, 3])\n",
    "            self.running_mean = (1 - self.momentum) * self.running_mean + self.momentum * mean\n",
    "            self.running_var = (1 - self.momentum) * self.running_var + self.momentum * variance\n",
    "        else:\n",
    "            mean = self.running_mean\n",
    "            variance = self.running_var\n",
    "        x = (x - mean.view(1, -1, 1, 1)) / (variance.view(1, -1, 1, 1) + self.eps).sqrt()\n",
    "        x = self.gamma.view(1, -1, 1, 1) * x + self.beta.view(1, -1, 1, 1)\n",
    "        return x\n",
    "    \n",
    "\n",
    "class InstanceNormalise(nn.Module):\n",
    "    def __init__(self, num_features, eps=1e-5, momentum=0.1):\n",
    "        super(InstanceNormalise, self).__init__()\n",
    "        self.num_features = num_features\n",
    "        self.eps = eps\n",
    "        self.momentum = momentum\n",
    "        self.gamma = nn.Parameter(torch.ones(num_features))\n",
    "        self.beta = nn.Parameter(torch.zeros(num_features))\n",
    "        shape = (1, num_features, 1, 1)\n",
    "\n",
    "    def forward(self, x):\n",
    "        if self.training:\n",
    "            mean = x.mean(dim=[2, 3], keepdim=True)\n",
    "            variance = x.var(dim=[2, 3], keepdim=True)\n",
    "        else:\n",
    "            mean = x.mean(dim=[2, 3], keepdim=True)\n",
    "            variance = x.var(dim=[2, 3], keepdim=True)\n",
    "        x = (x - mean) / (variance + self.eps).sqrt()\n",
    "        x = self.gamma.view(1, -1, 1, 1) * x + self.beta.view(1, -1, 1, 1)\n",
    "        return x\n",
    "\n",
    "  \n",
    "\n",
    "class BatchInstanceNormalise(nn.Module):\n",
    "    def __init__(self, num_features, eps=1e-5, momentum=0.1):\n",
    "        super(BatchInstanceNormalise, self).__init__()\n",
    "        self.num_features = num_features\n",
    "        self.eps = eps\n",
    "        self.momentum = momentum\n",
    "        self.gamma = nn.Parameter(torch.ones(num_features))\n",
    "        self.beta = nn.Parameter(torch.zeros(num_features))\n",
    "        self.running_mean = 0\n",
    "        self.running_var = 0\n",
    "        shape = (1, num_features, 1, 1)\n",
    "\n",
    "    def forward(self, x):\n",
    "        if self.training:\n",
    "            mean = x.mean(dim=[0, 2, 3])\n",
    "            variance = x.var(dim=[0, 2, 3])\n",
    "            self.running_mean = (1 - self.momentum) * self.running_mean + self.momentum * mean\n",
    "            self.running_var = (1 - self.momentum) * self.running_var + self.momentum * variance\n",
    "        else:\n",
    "            mean = self.running_mean\n",
    "            variance = self.running_var\n",
    "        x = (x - mean.view(1, -1, 1, 1)) / (variance.view(1, -1, 1, 1) + self.eps).sqrt()\n",
    "        x = self.gamma.view(1, -1, 1, 1) * x + self.beta.view(1, -1, 1, 1)\n",
    "        mean = x.mean(dim=[2, 3], keepdim=True)\n",
    "        variance = x.var(dim=[2, 3], keepdim=True)\n",
    "        x = (x - mean) / (variance + self.eps).sqrt()\n",
    "        x = self.gamma.view(1, -1, 1, 1) * x + self.beta.view(1, -1, 1, 1)\n",
    "        return x\n",
    "\n",
    "    \n",
    "\n",
    "class LayerNormalise(nn.Module):\n",
    "    def __init__(self, num_features, eps=1e-5, momentum=0.1):\n",
    "        super(LayerNormalise, self).__init__()\n",
    "        self.num_features = num_features\n",
    "        self.eps = eps\n",
    "        self.momentum = momentum\n",
    "        self.gamma = nn.Parameter(torch.ones(num_features))\n",
    "        self.beta = nn.Parameter(torch.zeros(num_features))\n",
    "        shape = (1, num_features, 1, 1)\n",
    "\n",
    "    def forward(self, x):\n",
    "        if self.training:\n",
    "            mean = x.mean(dim=[1, 2, 3], keepdim=True)\n",
    "            variance = x.var(dim=[1, 2, 3], keepdim=True)\n",
    "        else:\n",
    "            mean = x.mean(dim=[1, 2, 3], keepdim=True)\n",
    "            variance = x.var(dim=[1, 2, 3], keepdim=True)\n",
    "        x = (x - mean) / (variance + self.eps).sqrt()\n",
    "        x = self.gamma.view(1, -1, 1, 1) * x + self.beta.view(1, -1, 1, 1)\n",
    "        return x\n",
    "    \n",
    "\n",
    "class GroupNormalise(nn.Module):\n",
    "    def __init__(self, num_features, num_groups=4, eps=1e-5, momentum=0.1):\n",
    "        super(GroupNormalise, self).__init__()\n",
    "        self.num_features = num_features\n",
    "        self.num_groups = num_groups\n",
    "        self.eps = eps\n",
    "        self.momentum = momentum\n",
    "        self.gamma = nn.Parameter(torch.ones(1, num_features, 1, 1))\n",
    "        self.beta = nn.Parameter(torch.zeros(1, num_features, 1, 1))\n",
    "\n",
    "    def forward(self, x):\n",
    "        N, C, H, W = x.size()\n",
    "        x = x.view(N, self.num_groups, int(C / self.num_groups), H, W)\n",
    "        mean = x.mean(dim=[1, 2, 3], keepdim=True)\n",
    "        variance = x.var(dim=[1, 2, 3], keepdim=True)\n",
    "        x = (x - mean) / (variance + self.eps).sqrt()\n",
    "        x = x.view(N, C, H, W)\n",
    "        x = self.gamma * x + self.beta\n",
    "        return x"
   ]
  },
  {
   "cell_type": "code",
   "execution_count": 3,
   "id": "79e14eb6",
   "metadata": {
    "execution": {
     "iopub.execute_input": "2024-03-28T14:12:05.944171Z",
     "iopub.status.busy": "2024-03-28T14:12:05.943884Z",
     "iopub.status.idle": "2024-03-28T14:12:05.963528Z",
     "shell.execute_reply": "2024-03-28T14:12:05.962592Z"
    },
    "papermill": {
     "duration": 0.025429,
     "end_time": "2024-03-28T14:12:05.965636",
     "exception": false,
     "start_time": "2024-03-28T14:12:05.940207",
     "status": "completed"
    },
    "tags": []
   },
   "outputs": [],
   "source": [
    "def norms(dimension, norm_type):\n",
    "    if norm_type == 'none':\n",
    "        return NoNormalise(dimension)\n",
    "    elif norm_type == 'batch':\n",
    "        return BatchNormalise(dimension)\n",
    "    elif norm_type == 'instance':\n",
    "        return InstanceNormalise(dimension)\n",
    "    elif norm_type == 'batchinstance':\n",
    "        return BatchInstanceNormalise(dimension)\n",
    "    elif norm_type == 'layer':\n",
    "        return LayerNormalise(dimension)\n",
    "    elif norm_type == 'group':\n",
    "        return GroupNormalise(dimension)\n",
    "    else:\n",
    "        raise ValueError('Invalid norm type')\n",
    "    \n",
    "\n",
    "class resd_block(nn.Module):\n",
    "    def __init__(self, in_chs, out_chs, downsampling=None, stride=1, norm_type='none'):\n",
    "        super(resd_block, self).__init__()\n",
    "        self.conv1 = nn.Conv2d(in_chs, out_chs, kernel_size=3, stride=stride, padding=1)\n",
    "        self.bn1 = norms(out_chs, norm_type)\n",
    "        self.conv2 = nn.Conv2d(out_chs, out_chs, kernel_size=3, stride=1, padding=1)\n",
    "        self.bn2 = norms(out_chs, norm_type)\n",
    "        self.downsampling = downsampling\n",
    "        self.relu = nn.ReLU()\n",
    "        self.out_chs = out_chs\n",
    "\n",
    "    def forward(self, x):\n",
    "        identity = x\n",
    "        out = self.conv1(x)\n",
    "        out = self.bn1(out)\n",
    "        out = self.relu(out)\n",
    "        out = self.conv2(out)\n",
    "        out = self.bn2(out)\n",
    "        if self.downsampling is not None:\n",
    "            identity = self.downsampling(x)\n",
    "        out += identity\n",
    "        out = self.relu(out)\n",
    "        return out\n",
    "    \n",
    "\n",
    "class resnet(nn.Module): # n layers of blocks, r classes\n",
    "    def __init__(self, resd_block, layers, img_chs, r, norm_type):\n",
    "        super(resnet, self).__init__()\n",
    "        self.in_chs = 16\n",
    "        self.conv1 = nn.Conv2d(img_chs, 16, kernel_size=3, stride=1, padding=1)\n",
    "        self.bn = norms(16, norm_type)\n",
    "        self.relu = nn.ReLU()\n",
    "        self.layer1 = self.add_layer(resd_block, 16, layers[0], 1, norm_type)\n",
    "        self.layer2 = self.add_layer(resd_block, 32, layers[1], 2, norm_type)\n",
    "        self.layer3 = self.add_layer(resd_block, 64, layers[2], 2, norm_type)\n",
    "        self.avg_pool = nn.AvgPool2d(kernel_size=64)\n",
    "        self.fc = nn.Linear(64, r)\n",
    "\n",
    "    def add_layer(self, resd_block, out_chs, n, stride, norm_type):\n",
    "        downsampling = None\n",
    "        if (stride != 1) or (self.in_chs != out_chs):\n",
    "            downsampling = nn.Sequential(nn.Conv2d(self.in_chs, out_chs, kernel_size=3, stride=stride, padding=1), norms(out_chs, norm_type))\n",
    "        layers = []\n",
    "        layers.append(resd_block(self.in_chs, out_chs, downsampling, stride, norm_type))\n",
    "        self.in_chs = out_chs\n",
    "\n",
    "        for i in range(1, n):\n",
    "            layers.append(resd_block(self.in_chs, out_chs, norm_type=norm_type))\n",
    "            \n",
    "        return nn.Sequential(*layers)\n",
    "    \n",
    "\n",
    "    def forward(self, x):\n",
    "        out = self.conv1(x)\n",
    "        out = self.bn(out)\n",
    "        out = self.relu(out)\n",
    "        out = self.layer1(out)\n",
    "        out = self.layer2(out)\n",
    "        out = self.layer3(out)\n",
    "        out = self.avg_pool(out)\n",
    "        out = out.view(out.size(0), -1)\n",
    "        out = self.fc(out)\n",
    "        return out\n",
    "    \n",
    "\n",
    "def final_resnet(img_chs, r, n, norm_type):\n",
    "    return resnet(resd_block, [n, n, n], img_chs, r, norm_type)"
   ]
  },
  {
   "cell_type": "code",
   "execution_count": 4,
   "id": "cb50d2ea",
   "metadata": {
    "execution": {
     "iopub.execute_input": "2024-03-28T14:12:05.972902Z",
     "iopub.status.busy": "2024-03-28T14:12:05.972286Z",
     "iopub.status.idle": "2024-03-28T14:12:06.028538Z",
     "shell.execute_reply": "2024-03-28T14:12:06.027700Z"
    },
    "papermill": {
     "duration": 0.062086,
     "end_time": "2024-03-28T14:12:06.030584",
     "exception": false,
     "start_time": "2024-03-28T14:12:05.968498",
     "status": "completed"
    },
    "tags": []
   },
   "outputs": [
    {
     "name": "stdout",
     "output_type": "stream",
     "text": [
      "Device:  cuda:0\n"
     ]
    }
   ],
   "source": [
    "# The hyperparameters\n",
    "\n",
    "n = 2\n",
    "r = 25\n",
    "batch_size = 32\n",
    "# learning_rate = 0.0001\n",
    "num_epochs = 50 \n",
    "num_workers = 4\n",
    "norm_type = 'instance'\n",
    "\n",
    "device = torch.device(\"cuda:0\" if torch.cuda.is_available() else \"cpu\")\n",
    "\n",
    "\n",
    "print(\"Device: \", device)"
   ]
  },
  {
   "cell_type": "code",
   "execution_count": 5,
   "id": "3f44e5b3",
   "metadata": {
    "execution": {
     "iopub.execute_input": "2024-03-28T14:12:06.037434Z",
     "iopub.status.busy": "2024-03-28T14:12:06.037179Z",
     "iopub.status.idle": "2024-03-28T17:35:09.507513Z",
     "shell.execute_reply": "2024-03-28T17:35:09.506478Z"
    },
    "papermill": {
     "duration": 12185.81066,
     "end_time": "2024-03-28T17:35:11.843930",
     "exception": false,
     "start_time": "2024-03-28T14:12:06.033270",
     "status": "completed"
    },
    "tags": []
   },
   "outputs": [
    {
     "name": "stdout",
     "output_type": "stream",
     "text": [
      "Train Data:  29417\n",
      "Validation Data:  8413\n",
      "------------------------Training Started------------------------\n"
     ]
    },
    {
     "name": "stderr",
     "output_type": "stream",
     "text": [
      "100%|██████████| 920/920 [03:42<00:00,  4.13it/s]\n",
      "100%|██████████| 263/263 [00:20<00:00, 12.77it/s]\n"
     ]
    },
    {
     "name": "stdout",
     "output_type": "stream",
     "text": [
      "Epoch:  0 Train Loss:  0.09362816900571068 Train Accuracy:  14.1720773702281 Train F1 Macro:  0.11007558446815853 Train F1 Micro:  0.141720773702281\n",
      "Epoch:  0 Validation Loss:  0.08663608069143836 Validation Accuracy:  21.74016403185546 Validation F1 Macro:  0.18030072103152484 Validation F1 Micro:  0.2174016403185546\n",
      "---------------------------------------------------------------\n"
     ]
    },
    {
     "name": "stderr",
     "output_type": "stream",
     "text": [
      "100%|██████████| 920/920 [03:41<00:00,  4.15it/s]\n",
      "100%|██████████| 263/263 [00:20<00:00, 12.81it/s]\n"
     ]
    },
    {
     "name": "stdout",
     "output_type": "stream",
     "text": [
      "Epoch:  1 Train Loss:  0.08106805339126855 Train Accuracy:  26.04276438793895 Train F1 Macro:  0.2277448150106045 Train F1 Micro:  0.2604276438793895\n",
      "Epoch:  1 Validation Loss:  0.07642118145534489 Validation Accuracy:  30.702484250564606 Validation F1 Macro:  0.2586476112107372 Validation F1 Micro:  0.30702484250564605\n",
      "---------------------------------------------------------------\n"
     ]
    },
    {
     "name": "stderr",
     "output_type": "stream",
     "text": [
      "100%|██████████| 920/920 [03:42<00:00,  4.13it/s]\n",
      "100%|██████████| 263/263 [00:20<00:00, 12.75it/s]\n"
     ]
    },
    {
     "name": "stdout",
     "output_type": "stream",
     "text": [
      "Epoch:  2 Train Loss:  0.07262742966357777 Train Accuracy:  33.77638780297107 Train F1 Macro:  0.3049942041054624 Train F1 Micro:  0.3377638780297107\n",
      "Epoch:  2 Validation Loss:  0.06831464518920344 Validation Accuracy:  38.01259954831808 Validation F1 Macro:  0.34308778635294473 Validation F1 Micro:  0.38012599548318077\n",
      "---------------------------------------------------------------\n"
     ]
    },
    {
     "name": "stderr",
     "output_type": "stream",
     "text": [
      "100%|██████████| 920/920 [03:42<00:00,  4.13it/s]\n",
      "100%|██████████| 263/263 [00:20<00:00, 12.80it/s]\n"
     ]
    },
    {
     "name": "stdout",
     "output_type": "stream",
     "text": [
      "Epoch:  3 Train Loss:  0.0654570157950102 Train Accuracy:  40.35421694938301 Train F1 Macro:  0.38027555662160833 Train F1 Micro:  0.4035421694938301\n",
      "Epoch:  3 Validation Loss:  0.06165205215877831 Validation Accuracy:  44.383691905384524 Validation F1 Macro:  0.4260669755185957 Validation F1 Micro:  0.44383691905384526\n",
      "---------------------------------------------------------------\n"
     ]
    },
    {
     "name": "stderr",
     "output_type": "stream",
     "text": [
      "100%|██████████| 920/920 [03:42<00:00,  4.13it/s]\n",
      "100%|██████████| 263/263 [00:20<00:00, 12.71it/s]\n"
     ]
    },
    {
     "name": "stdout",
     "output_type": "stream",
     "text": [
      "Epoch:  4 Train Loss:  0.05933387837038936 Train Accuracy:  45.20515348268008 Train F1 Macro:  0.4330381222475081 Train F1 Micro:  0.4520515348268008\n",
      "Epoch:  4 Validation Loss:  0.056939907643878046 Validation Accuracy:  48.496374658266966 Validation F1 Macro:  0.47030795496798755 Validation F1 Micro:  0.48496374658266966\n",
      "---------------------------------------------------------------\n"
     ]
    },
    {
     "name": "stderr",
     "output_type": "stream",
     "text": [
      "100%|██████████| 920/920 [03:42<00:00,  4.13it/s]\n",
      "100%|██████████| 263/263 [00:20<00:00, 12.75it/s]\n"
     ]
    },
    {
     "name": "stdout",
     "output_type": "stream",
     "text": [
      "Epoch:  5 Train Loss:  0.05468656261225716 Train Accuracy:  49.13145460108101 Train F1 Macro:  0.47352791256778237 Train F1 Micro:  0.4913145460108101\n",
      "Epoch:  5 Validation Loss:  0.05169822681422014 Validation Accuracy:  51.62248900511114 Validation F1 Macro:  0.4877199833722427 Validation F1 Micro:  0.5162248900511114\n",
      "---------------------------------------------------------------\n"
     ]
    },
    {
     "name": "stderr",
     "output_type": "stream",
     "text": [
      "100%|██████████| 920/920 [03:42<00:00,  4.13it/s]\n",
      "100%|██████████| 263/263 [00:20<00:00, 12.75it/s]\n"
     ]
    },
    {
     "name": "stdout",
     "output_type": "stream",
     "text": [
      "Epoch:  6 Train Loss:  0.05080052506458866 Train Accuracy:  51.786382023999735 Train F1 Macro:  0.5018502360421839 Train F1 Micro:  0.5178638202399973\n",
      "Epoch:  6 Validation Loss:  0.04935351457293161 Validation Accuracy:  52.549625579460354 Validation F1 Macro:  0.5118258934369028 Validation F1 Micro:  0.5254962557946036\n",
      "---------------------------------------------------------------\n"
     ]
    },
    {
     "name": "stderr",
     "output_type": "stream",
     "text": [
      "100%|██████████| 920/920 [03:42<00:00,  4.13it/s]\n",
      "100%|██████████| 263/263 [00:20<00:00, 12.79it/s]\n"
     ]
    },
    {
     "name": "stdout",
     "output_type": "stream",
     "text": [
      "Epoch:  7 Train Loss:  0.047773484714934825 Train Accuracy:  54.77445014787368 Train F1 Macro:  0.5358286184937034 Train F1 Micro:  0.5477445014787368\n",
      "Epoch:  7 Validation Loss:  0.04568071777268254 Validation Accuracy:  56.86437656008558 Validation F1 Macro:  0.5537950612951622 Validation F1 Micro:  0.5686437656008558\n",
      "---------------------------------------------------------------\n"
     ]
    },
    {
     "name": "stderr",
     "output_type": "stream",
     "text": [
      "100%|██████████| 920/920 [03:42<00:00,  4.13it/s]\n",
      "100%|██████████| 263/263 [00:20<00:00, 12.74it/s]\n"
     ]
    },
    {
     "name": "stdout",
     "output_type": "stream",
     "text": [
      "Epoch:  8 Train Loss:  0.04546769124166352 Train Accuracy:  56.691708875820105 Train F1 Macro:  0.5569739100302101 Train F1 Micro:  0.566917088758201\n",
      "Epoch:  8 Validation Loss:  0.045234303181539544 Validation Accuracy:  57.18530845120646 Validation F1 Macro:  0.5554801186440348 Validation F1 Micro:  0.5718530845120646\n",
      "---------------------------------------------------------------\n"
     ]
    },
    {
     "name": "stderr",
     "output_type": "stream",
     "text": [
      "100%|██████████| 920/920 [03:42<00:00,  4.13it/s]\n",
      "100%|██████████| 263/263 [00:20<00:00, 12.80it/s]\n"
     ]
    },
    {
     "name": "stdout",
     "output_type": "stream",
     "text": [
      "Epoch:  9 Train Loss:  0.043441954905817315 Train Accuracy:  58.323418431519194 Train F1 Macro:  0.5753051890849135 Train F1 Micro:  0.5832341843151919\n",
      "Epoch:  9 Validation Loss:  0.04255313521104294 Validation Accuracy:  59.32485439201236 Validation F1 Macro:  0.5782580006244725 Validation F1 Micro:  0.5932485439201236\n",
      "---------------------------------------------------------------\n"
     ]
    },
    {
     "name": "stderr",
     "output_type": "stream",
     "text": [
      "100%|██████████| 920/920 [03:42<00:00,  4.13it/s]\n",
      "100%|██████████| 263/263 [00:20<00:00, 12.76it/s]\n"
     ]
    },
    {
     "name": "stdout",
     "output_type": "stream",
     "text": [
      "Epoch:  10 Train Loss:  0.041704870909113054 Train Accuracy:  60.01971649046469 Train F1 Macro:  0.5938993774934763 Train F1 Micro:  0.6001971649046469\n",
      "Epoch:  10 Validation Loss:  0.0406056517449738 Validation Accuracy:  62.248900511113746 Validation F1 Macro:  0.6227221563776196 Validation F1 Micro:  0.6224890051111375\n",
      "---------------------------------------------------------------\n"
     ]
    },
    {
     "name": "stderr",
     "output_type": "stream",
     "text": [
      "100%|██████████| 920/920 [03:42<00:00,  4.13it/s]\n",
      "100%|██████████| 263/263 [00:20<00:00, 12.76it/s]\n"
     ]
    },
    {
     "name": "stdout",
     "output_type": "stream",
     "text": [
      "Epoch:  11 Train Loss:  0.040189613286345904 Train Accuracy:  61.348879899377906 Train F1 Macro:  0.6089019528072952 Train F1 Micro:  0.6134887989937791\n",
      "Epoch:  11 Validation Loss:  0.038794921235296854 Validation Accuracy:  62.878877927017705 Validation F1 Macro:  0.6175603609688494 Validation F1 Micro:  0.6287887792701771\n",
      "---------------------------------------------------------------\n"
     ]
    },
    {
     "name": "stderr",
     "output_type": "stream",
     "text": [
      "100%|██████████| 920/920 [03:42<00:00,  4.13it/s]\n",
      "100%|██████████| 263/263 [00:20<00:00, 12.72it/s]\n"
     ]
    },
    {
     "name": "stdout",
     "output_type": "stream",
     "text": [
      "Epoch:  12 Train Loss:  0.03883284344551423 Train Accuracy:  62.78002515552231 Train F1 Macro:  0.6234418174671071 Train F1 Micro:  0.6278002515552231\n",
      "Epoch:  12 Validation Loss:  0.03721048251550716 Validation Accuracy:  65.06596933317485 Validation F1 Macro:  0.6489762856033252 Validation F1 Micro:  0.6506596933317484\n",
      "---------------------------------------------------------------\n"
     ]
    },
    {
     "name": "stderr",
     "output_type": "stream",
     "text": [
      "100%|██████████| 920/920 [03:42<00:00,  4.13it/s]\n",
      "100%|██████████| 263/263 [00:20<00:00, 12.77it/s]\n"
     ]
    },
    {
     "name": "stdout",
     "output_type": "stream",
     "text": [
      "Epoch:  13 Train Loss:  0.03776284923332044 Train Accuracy:  63.64687085698746 Train F1 Macro:  0.6333696847426252 Train F1 Micro:  0.6364687085698746\n",
      "Epoch:  13 Validation Loss:  0.0370843227597149 Validation Accuracy:  64.76881017472958 Validation F1 Macro:  0.6488512646559618 Validation F1 Micro:  0.6476881017472959\n",
      "---------------------------------------------------------------\n"
     ]
    },
    {
     "name": "stderr",
     "output_type": "stream",
     "text": [
      "100%|██████████| 920/920 [03:42<00:00,  4.13it/s]\n",
      "100%|██████████| 263/263 [00:20<00:00, 12.67it/s]\n"
     ]
    },
    {
     "name": "stdout",
     "output_type": "stream",
     "text": [
      "Epoch:  14 Train Loss:  0.036510309633823054 Train Accuracy:  65.08141550803957 Train F1 Macro:  0.6480318099055844 Train F1 Micro:  0.6508141550803956\n",
      "Epoch:  14 Validation Loss:  0.03533529213481435 Validation Accuracy:  66.8251515511708 Validation F1 Macro:  0.6689407400999196 Validation F1 Micro:  0.668251515511708\n",
      "---------------------------------------------------------------\n"
     ]
    },
    {
     "name": "stderr",
     "output_type": "stream",
     "text": [
      "100%|██████████| 920/920 [03:42<00:00,  4.13it/s]\n",
      "100%|██████████| 263/263 [00:20<00:00, 12.74it/s]\n"
     ]
    },
    {
     "name": "stdout",
     "output_type": "stream",
     "text": [
      "Epoch:  15 Train Loss:  0.035578890028673225 Train Accuracy:  65.95166060441241 Train F1 Macro:  0.6570187665476463 Train F1 Micro:  0.6595166060441241\n",
      "Epoch:  15 Validation Loss:  0.03788655263574458 Validation Accuracy:  62.6411506002615 Validation F1 Macro:  0.6244241000335249 Validation F1 Micro:  0.626411506002615\n",
      "---------------------------------------------------------------\n"
     ]
    },
    {
     "name": "stderr",
     "output_type": "stream",
     "text": [
      "100%|██████████| 920/920 [03:42<00:00,  4.13it/s]\n",
      "100%|██████████| 263/263 [00:20<00:00, 12.81it/s]\n"
     ]
    },
    {
     "name": "stdout",
     "output_type": "stream",
     "text": [
      "Epoch:  16 Train Loss:  0.034719252134928 Train Accuracy:  66.62474079613828 Train F1 Macro:  0.6645973360724446 Train F1 Micro:  0.6662474079613828\n",
      "Epoch:  16 Validation Loss:  0.03392509435779853 Validation Accuracy:  68.5011292048021 Validation F1 Macro:  0.6856870941957527 Validation F1 Micro:  0.6850112920480209\n",
      "---------------------------------------------------------------\n"
     ]
    },
    {
     "name": "stderr",
     "output_type": "stream",
     "text": [
      "100%|██████████| 920/920 [03:42<00:00,  4.13it/s]\n",
      "100%|██████████| 263/263 [00:20<00:00, 12.64it/s]\n"
     ]
    },
    {
     "name": "stdout",
     "output_type": "stream",
     "text": [
      "Epoch:  17 Train Loss:  0.03374822447235686 Train Accuracy:  67.91651086106673 Train F1 Macro:  0.6778652020574404 Train F1 Micro:  0.6791651086106673\n",
      "Epoch:  17 Validation Loss:  0.03318818921703058 Validation Accuracy:  68.25151551170808 Validation F1 Macro:  0.6783867238279443 Validation F1 Micro:  0.6825151551170807\n",
      "---------------------------------------------------------------\n"
     ]
    },
    {
     "name": "stderr",
     "output_type": "stream",
     "text": [
      "100%|██████████| 920/920 [03:42<00:00,  4.13it/s]\n",
      "100%|██████████| 263/263 [00:20<00:00, 12.75it/s]\n"
     ]
    },
    {
     "name": "stdout",
     "output_type": "stream",
     "text": [
      "Epoch:  18 Train Loss:  0.033042880948777956 Train Accuracy:  68.4298194921304 Train F1 Macro:  0.683246063944056 Train F1 Micro:  0.6842981949213041\n",
      "Epoch:  18 Validation Loss:  0.03256705354265519 Validation Accuracy:  69.071674789017 Validation F1 Macro:  0.692427186021342 Validation F1 Micro:  0.69071674789017\n",
      "---------------------------------------------------------------\n"
     ]
    },
    {
     "name": "stderr",
     "output_type": "stream",
     "text": [
      "100%|██████████| 920/920 [03:42<00:00,  4.13it/s]\n",
      "100%|██████████| 263/263 [00:20<00:00, 12.77it/s]\n"
     ]
    },
    {
     "name": "stdout",
     "output_type": "stream",
     "text": [
      "Epoch:  19 Train Loss:  0.032227509172791775 Train Accuracy:  69.22527790053371 Train F1 Macro:  0.6917982514799421 Train F1 Micro:  0.6922527790053371\n",
      "Epoch:  19 Validation Loss:  0.032186611770386224 Validation Accuracy:  69.93937953167718 Validation F1 Macro:  0.7008670971522863 Validation F1 Micro:  0.6993937953167717\n",
      "---------------------------------------------------------------\n"
     ]
    },
    {
     "name": "stderr",
     "output_type": "stream",
     "text": [
      "100%|██████████| 920/920 [03:42<00:00,  4.13it/s]\n",
      "100%|██████████| 263/263 [00:20<00:00, 12.76it/s]\n"
     ]
    },
    {
     "name": "stdout",
     "output_type": "stream",
     "text": [
      "Epoch:  20 Train Loss:  0.031494489493617904 Train Accuracy:  69.84056837882858 Train F1 Macro:  0.6978682172684892 Train F1 Micro:  0.6984056837882857\n",
      "Epoch:  20 Validation Loss:  0.030971774521231666 Validation Accuracy:  70.64067514560799 Validation F1 Macro:  0.7070517469662425 Validation F1 Micro:  0.7064067514560799\n",
      "---------------------------------------------------------------\n"
     ]
    },
    {
     "name": "stderr",
     "output_type": "stream",
     "text": [
      "100%|██████████| 920/920 [03:42<00:00,  4.13it/s]\n",
      "100%|██████████| 263/263 [00:20<00:00, 12.71it/s]\n"
     ]
    },
    {
     "name": "stdout",
     "output_type": "stream",
     "text": [
      "Epoch:  21 Train Loss:  0.03088861652002031 Train Accuracy:  70.4422612774926 Train F1 Macro:  0.704068724090725 Train F1 Micro:  0.704422612774926\n",
      "Epoch:  21 Validation Loss:  0.03018059997131804 Validation Accuracy:  71.94817544276715 Validation F1 Macro:  0.7197524470377344 Validation F1 Micro:  0.7194817544276715\n",
      "---------------------------------------------------------------\n"
     ]
    },
    {
     "name": "stderr",
     "output_type": "stream",
     "text": [
      "100%|██████████| 920/920 [03:42<00:00,  4.13it/s]\n",
      "100%|██████████| 263/263 [00:20<00:00, 12.78it/s]\n"
     ]
    },
    {
     "name": "stdout",
     "output_type": "stream",
     "text": [
      "Epoch:  22 Train Loss:  0.030304100040381716 Train Accuracy:  71.19692694700343 Train F1 Macro:  0.7117576973783405 Train F1 Micro:  0.7119692694700344\n",
      "Epoch:  22 Validation Loss:  0.029302106247204147 Validation Accuracy:  73.05360751218353 Validation F1 Macro:  0.7320719079841013 Validation F1 Micro:  0.7305360751218353\n",
      "---------------------------------------------------------------\n"
     ]
    },
    {
     "name": "stderr",
     "output_type": "stream",
     "text": [
      "100%|██████████| 920/920 [03:42<00:00,  4.13it/s]\n",
      "100%|██████████| 263/263 [00:20<00:00, 12.79it/s]\n"
     ]
    },
    {
     "name": "stdout",
     "output_type": "stream",
     "text": [
      "Epoch:  23 Train Loss:  0.02973556269028495 Train Accuracy:  71.80881803039058 Train F1 Macro:  0.7181214236908978 Train F1 Micro:  0.718088180303906\n",
      "Epoch:  23 Validation Loss:  0.03032199017155345 Validation Accuracy:  70.7833115416617 Validation F1 Macro:  0.7095336805690856 Validation F1 Micro:  0.707833115416617\n",
      "---------------------------------------------------------------\n"
     ]
    },
    {
     "name": "stderr",
     "output_type": "stream",
     "text": [
      "100%|██████████| 920/920 [03:42<00:00,  4.13it/s]\n",
      "100%|██████████| 263/263 [00:20<00:00, 12.78it/s]\n"
     ]
    },
    {
     "name": "stdout",
     "output_type": "stream",
     "text": [
      "Epoch:  24 Train Loss:  0.029185631924816366 Train Accuracy:  72.09776659754563 Train F1 Macro:  0.7210059894793858 Train F1 Micro:  0.7209776659754563\n",
      "Epoch:  24 Validation Loss:  0.028544019980332406 Validation Accuracy:  73.62415309639843 Validation F1 Macro:  0.7399575187977951 Validation F1 Micro:  0.7362415309639841\n",
      "---------------------------------------------------------------\n"
     ]
    },
    {
     "name": "stderr",
     "output_type": "stream",
     "text": [
      "100%|██████████| 920/920 [03:42<00:00,  4.13it/s]\n",
      "100%|██████████| 263/263 [00:20<00:00, 12.73it/s]\n"
     ]
    },
    {
     "name": "stdout",
     "output_type": "stream",
     "text": [
      "Epoch:  25 Train Loss:  0.028542665720682973 Train Accuracy:  73.01560322262637 Train F1 Macro:  0.7303043811648222 Train F1 Micro:  0.7301560322262637\n",
      "Epoch:  25 Validation Loss:  0.027525649907599443 Validation Accuracy:  74.39676690835611 Validation F1 Macro:  0.7436006871069215 Validation F1 Micro:  0.7439676690835612\n",
      "---------------------------------------------------------------\n"
     ]
    },
    {
     "name": "stderr",
     "output_type": "stream",
     "text": [
      "100%|██████████| 920/920 [03:42<00:00,  4.13it/s]\n",
      "100%|██████████| 263/263 [00:20<00:00, 12.78it/s]\n"
     ]
    },
    {
     "name": "stdout",
     "output_type": "stream",
     "text": [
      "Epoch:  26 Train Loss:  0.028217018931160916 Train Accuracy:  73.41333242682802 Train F1 Macro:  0.7341465851677398 Train F1 Micro:  0.7341333242682804\n",
      "Epoch:  26 Validation Loss:  0.02721498657580747 Validation Accuracy:  74.9435397598954 Validation F1 Macro:  0.7498597216184986 Validation F1 Micro:  0.7494353975989541\n",
      "---------------------------------------------------------------\n"
     ]
    },
    {
     "name": "stderr",
     "output_type": "stream",
     "text": [
      "100%|██████████| 920/920 [03:42<00:00,  4.13it/s]\n",
      "100%|██████████| 263/263 [00:20<00:00, 12.74it/s]\n"
     ]
    },
    {
     "name": "stdout",
     "output_type": "stream",
     "text": [
      "Epoch:  27 Train Loss:  0.02771140038653072 Train Accuracy:  73.72267736342931 Train F1 Macro:  0.7374809080829641 Train F1 Micro:  0.7372267736342931\n",
      "Epoch:  27 Validation Loss:  0.027138295688481643 Validation Accuracy:  75.05051705693569 Validation F1 Macro:  0.7514728254230719 Validation F1 Micro:  0.750505170569357\n",
      "---------------------------------------------------------------\n"
     ]
    },
    {
     "name": "stderr",
     "output_type": "stream",
     "text": [
      "100%|██████████| 920/920 [03:42<00:00,  4.13it/s]\n",
      "100%|██████████| 263/263 [00:20<00:00, 12.76it/s]\n"
     ]
    },
    {
     "name": "stdout",
     "output_type": "stream",
     "text": [
      "Epoch:  28 Train Loss:  0.02737916550273359 Train Accuracy:  73.90624468844545 Train F1 Macro:  0.7395312243240914 Train F1 Micro:  0.7390624468844545\n",
      "Epoch:  28 Validation Loss:  0.026419685963347764 Validation Accuracy:  75.16938072031381 Validation F1 Macro:  0.7503917460147963 Validation F1 Micro:  0.751693807203138\n",
      "---------------------------------------------------------------\n"
     ]
    },
    {
     "name": "stderr",
     "output_type": "stream",
     "text": [
      "100%|██████████| 920/920 [03:42<00:00,  4.13it/s]\n",
      "100%|██████████| 263/263 [00:20<00:00, 12.82it/s]\n"
     ]
    },
    {
     "name": "stdout",
     "output_type": "stream",
     "text": [
      "Epoch:  29 Train Loss:  0.026847141135998003 Train Accuracy:  74.51813577183262 Train F1 Macro:  0.7455353086683121 Train F1 Micro:  0.7451813577183262\n",
      "Epoch:  29 Validation Loss:  0.02635603323959644 Validation Accuracy:  75.10994888862474 Validation F1 Macro:  0.7510005631960123 Validation F1 Micro:  0.7510994888862474\n",
      "---------------------------------------------------------------\n"
     ]
    },
    {
     "name": "stderr",
     "output_type": "stream",
     "text": [
      "100%|██████████| 920/920 [03:42<00:00,  4.13it/s]\n",
      "100%|██████████| 263/263 [00:20<00:00, 12.73it/s]\n"
     ]
    },
    {
     "name": "stdout",
     "output_type": "stream",
     "text": [
      "Epoch:  30 Train Loss:  0.02655143904873195 Train Accuracy:  74.74589523064894 Train F1 Macro:  0.7477275627783594 Train F1 Micro:  0.7474589523064895\n",
      "Epoch:  30 Validation Loss:  0.026251935540326184 Validation Accuracy:  75.52597171044812 Validation F1 Macro:  0.7566518753467009 Validation F1 Micro:  0.7552597171044811\n",
      "---------------------------------------------------------------\n"
     ]
    },
    {
     "name": "stderr",
     "output_type": "stream",
     "text": [
      "100%|██████████| 920/920 [03:42<00:00,  4.13it/s]\n",
      "100%|██████████| 263/263 [00:20<00:00, 12.72it/s]\n"
     ]
    },
    {
     "name": "stdout",
     "output_type": "stream",
     "text": [
      "Epoch:  31 Train Loss:  0.02608193448667244 Train Accuracy:  75.38158207839004 Train F1 Macro:  0.7542793532121741 Train F1 Micro:  0.7538158207839004\n",
      "Epoch:  31 Validation Loss:  0.02663209003970978 Validation Accuracy:  74.46808510638297 Validation F1 Macro:  0.7474608804940857 Validation F1 Micro:  0.7446808510638298\n",
      "---------------------------------------------------------------\n"
     ]
    },
    {
     "name": "stderr",
     "output_type": "stream",
     "text": [
      "100%|██████████| 920/920 [03:42<00:00,  4.13it/s]\n",
      "100%|██████████| 263/263 [00:20<00:00, 12.80it/s]\n"
     ]
    },
    {
     "name": "stdout",
     "output_type": "stream",
     "text": [
      "Epoch:  32 Train Loss:  0.02580834241282483 Train Accuracy:  75.68412822517591 Train F1 Macro:  0.7573287243901901 Train F1 Micro:  0.7568412822517592\n",
      "Epoch:  32 Validation Loss:  0.02570784210974547 Validation Accuracy:  75.93010816593367 Validation F1 Macro:  0.7582730872083541 Validation F1 Micro:  0.7593010816593367\n",
      "---------------------------------------------------------------\n"
     ]
    },
    {
     "name": "stderr",
     "output_type": "stream",
     "text": [
      "100%|██████████| 920/920 [03:42<00:00,  4.13it/s]\n",
      "100%|██████████| 263/263 [00:20<00:00, 12.75it/s]\n"
     ]
    },
    {
     "name": "stdout",
     "output_type": "stream",
     "text": [
      "Epoch:  33 Train Loss:  0.025501932998596214 Train Accuracy:  75.83030220620729 Train F1 Macro:  0.7585701428937209 Train F1 Micro:  0.7583030220620729\n",
      "Epoch:  33 Validation Loss:  0.0256005863247389 Validation Accuracy:  76.22726732437893 Validation F1 Macro:  0.7656175697519623 Validation F1 Micro:  0.7622726732437893\n",
      "---------------------------------------------------------------\n"
     ]
    },
    {
     "name": "stderr",
     "output_type": "stream",
     "text": [
      "100%|██████████| 920/920 [03:42<00:00,  4.13it/s]\n",
      "100%|██████████| 263/263 [00:20<00:00, 12.76it/s]\n"
     ]
    },
    {
     "name": "stdout",
     "output_type": "stream",
     "text": [
      "Epoch:  34 Train Loss:  0.025051964318302068 Train Accuracy:  76.39800115579428 Train F1 Macro:  0.7644299850702231 Train F1 Micro:  0.7639800115579427\n",
      "Epoch:  34 Validation Loss:  0.02454805830142649 Validation Accuracy:  77.34458576013313 Validation F1 Macro:  0.7746502119822316 Validation F1 Micro:  0.7734458576013311\n",
      "---------------------------------------------------------------\n"
     ]
    },
    {
     "name": "stderr",
     "output_type": "stream",
     "text": [
      "100%|██████████| 920/920 [03:42<00:00,  4.13it/s]\n",
      "100%|██████████| 263/263 [00:20<00:00, 12.72it/s]\n"
     ]
    },
    {
     "name": "stdout",
     "output_type": "stream",
     "text": [
      "Epoch:  35 Train Loss:  0.024861875899073002 Train Accuracy:  76.54417513682564 Train F1 Macro:  0.7659859281940088 Train F1 Micro:  0.7654417513682564\n",
      "Epoch:  35 Validation Loss:  0.024551153747112704 Validation Accuracy:  77.03554023535006 Validation F1 Macro:  0.7736672295068368 Validation F1 Micro:  0.7703554023535005\n",
      "---------------------------------------------------------------\n"
     ]
    },
    {
     "name": "stderr",
     "output_type": "stream",
     "text": [
      "100%|██████████| 920/920 [03:42<00:00,  4.13it/s]\n",
      "100%|██████████| 263/263 [00:20<00:00, 12.75it/s]\n"
     ]
    },
    {
     "name": "stdout",
     "output_type": "stream",
     "text": [
      "Epoch:  36 Train Loss:  0.024528994448638753 Train Accuracy:  76.88751402250399 Train F1 Macro:  0.76954018749944 Train F1 Micro:  0.7688751402250399\n",
      "Epoch:  36 Validation Loss:  0.024249524041934145 Validation Accuracy:  77.91513134434803 Validation F1 Macro:  0.7816525894691446 Validation F1 Micro:  0.7791513134434803\n",
      "---------------------------------------------------------------\n"
     ]
    },
    {
     "name": "stderr",
     "output_type": "stream",
     "text": [
      "100%|██████████| 920/920 [03:42<00:00,  4.13it/s]\n",
      "100%|██████████| 263/263 [00:20<00:00, 12.78it/s]\n"
     ]
    },
    {
     "name": "stdout",
     "output_type": "stream",
     "text": [
      "Epoch:  37 Train Loss:  0.024291940891277085 Train Accuracy:  77.1492674303974 Train F1 Macro:  0.772129908741121 Train F1 Micro:  0.7714926743039738\n",
      "Epoch:  37 Validation Loss:  0.023870300002990348 Validation Accuracy:  78.29549506715797 Validation F1 Macro:  0.7834644356960019 Validation F1 Micro:  0.7829549506715797\n",
      "---------------------------------------------------------------\n"
     ]
    },
    {
     "name": "stderr",
     "output_type": "stream",
     "text": [
      "100%|██████████| 920/920 [03:42<00:00,  4.13it/s]\n",
      "100%|██████████| 263/263 [00:20<00:00, 12.65it/s]\n"
     ]
    },
    {
     "name": "stdout",
     "output_type": "stream",
     "text": [
      "Epoch:  38 Train Loss:  0.024002511237015085 Train Accuracy:  77.52999966006051 Train F1 Macro:  0.7758915776151101 Train F1 Micro:  0.775299996600605\n",
      "Epoch:  38 Validation Loss:  0.023794075541227477 Validation Accuracy:  78.04588137406395 Validation F1 Macro:  0.7804682303517688 Validation F1 Micro:  0.7804588137406394\n",
      "---------------------------------------------------------------\n"
     ]
    },
    {
     "name": "stderr",
     "output_type": "stream",
     "text": [
      "100%|██████████| 920/920 [03:42<00:00,  4.13it/s]\n",
      "100%|██████████| 263/263 [00:20<00:00, 12.77it/s]\n"
     ]
    },
    {
     "name": "stdout",
     "output_type": "stream",
     "text": [
      "Epoch:  39 Train Loss:  0.023795652086407257 Train Accuracy:  77.67277424618419 Train F1 Macro:  0.7774415138794373 Train F1 Micro:  0.7767277424618418\n",
      "Epoch:  39 Validation Loss:  0.023388034488634295 Validation Accuracy:  78.7828360870082 Validation F1 Macro:  0.7899291076234332 Validation F1 Micro:  0.787828360870082\n",
      "---------------------------------------------------------------\n"
     ]
    },
    {
     "name": "stderr",
     "output_type": "stream",
     "text": [
      "100%|██████████| 920/920 [03:42<00:00,  4.13it/s]\n",
      "100%|██████████| 263/263 [00:20<00:00, 12.74it/s]\n"
     ]
    },
    {
     "name": "stdout",
     "output_type": "stream",
     "text": [
      "Epoch:  40 Train Loss:  0.023572778540294305 Train Accuracy:  78.0467076860319 Train F1 Macro:  0.7812032617663565 Train F1 Micro:  0.7804670768603189\n",
      "Epoch:  40 Validation Loss:  0.023269675785411514 Validation Accuracy:  78.48567692856294 Validation F1 Macro:  0.7849680746283663 Validation F1 Micro:  0.7848567692856294\n",
      "---------------------------------------------------------------\n"
     ]
    },
    {
     "name": "stderr",
     "output_type": "stream",
     "text": [
      "100%|██████████| 920/920 [03:42<00:00,  4.13it/s]\n",
      "100%|██████████| 263/263 [00:20<00:00, 12.67it/s]\n"
     ]
    },
    {
     "name": "stdout",
     "output_type": "stream",
     "text": [
      "Epoch:  41 Train Loss:  0.02337606222011881 Train Accuracy:  78.27446714484822 Train F1 Macro:  0.7833946705738749 Train F1 Micro:  0.7827446714484821\n",
      "Epoch:  41 Validation Loss:  0.02322750488949505 Validation Accuracy:  78.72340425531915 Validation F1 Macro:  0.787420658028268 Validation F1 Micro:  0.7872340425531915\n",
      "---------------------------------------------------------------\n"
     ]
    },
    {
     "name": "stderr",
     "output_type": "stream",
     "text": [
      "100%|██████████| 920/920 [03:42<00:00,  4.13it/s]\n",
      "100%|██████████| 263/263 [00:20<00:00, 12.77it/s]\n"
     ]
    },
    {
     "name": "stdout",
     "output_type": "stream",
     "text": [
      "Epoch:  42 Train Loss:  0.02321667068227571 Train Accuracy:  78.47163204949518 Train F1 Macro:  0.7853162043175912 Train F1 Micro:  0.7847163204949518\n",
      "Epoch:  42 Validation Loss:  0.023197862887209285 Validation Accuracy:  78.56888149292762 Validation F1 Macro:  0.7866286025139599 Validation F1 Micro:  0.7856888149292761\n",
      "---------------------------------------------------------------\n"
     ]
    },
    {
     "name": "stderr",
     "output_type": "stream",
     "text": [
      "100%|██████████| 920/920 [03:42<00:00,  4.13it/s]\n",
      "100%|██████████| 263/263 [00:20<00:00, 12.79it/s]\n"
     ]
    },
    {
     "name": "stdout",
     "output_type": "stream",
     "text": [
      "Epoch:  43 Train Loss:  0.023026526060387065 Train Accuracy:  78.56681510691097 Train F1 Macro:  0.7863816640634669 Train F1 Micro:  0.7856681510691097\n",
      "Epoch:  43 Validation Loss:  0.022817700265293582 Validation Accuracy:  79.06810887911566 Validation F1 Macro:  0.7912980931233762 Validation F1 Micro:  0.7906810887911565\n",
      "---------------------------------------------------------------\n"
     ]
    },
    {
     "name": "stderr",
     "output_type": "stream",
     "text": [
      "100%|██████████| 920/920 [03:42<00:00,  4.13it/s]\n",
      "100%|██████████| 263/263 [00:20<00:00, 12.68it/s]\n"
     ]
    },
    {
     "name": "stdout",
     "output_type": "stream",
     "text": [
      "Epoch:  44 Train Loss:  0.0229028258180782 Train Accuracy:  78.66879695414217 Train F1 Macro:  0.7874017090164017 Train F1 Micro:  0.7866879695414215\n",
      "Epoch:  44 Validation Loss:  0.022898018123681856 Validation Accuracy:  79.3296089385475 Validation F1 Macro:  0.7956476337681276 Validation F1 Micro:  0.7932960893854749\n",
      "---------------------------------------------------------------\n"
     ]
    },
    {
     "name": "stderr",
     "output_type": "stream",
     "text": [
      "100%|██████████| 920/920 [03:42<00:00,  4.13it/s]\n",
      "100%|██████████| 263/263 [00:20<00:00, 12.76it/s]\n"
     ]
    },
    {
     "name": "stdout",
     "output_type": "stream",
     "text": [
      "Epoch:  45 Train Loss:  0.022759404169304324 Train Accuracy:  78.87276064860454 Train F1 Macro:  0.7895592141016837 Train F1 Micro:  0.7887276064860455\n",
      "Epoch:  45 Validation Loss:  0.02244362319024468 Validation Accuracy:  79.674313562344 Validation F1 Macro:  0.7976527970177879 Validation F1 Micro:  0.7967431356234399\n",
      "---------------------------------------------------------------\n"
     ]
    },
    {
     "name": "stderr",
     "output_type": "stream",
     "text": [
      "100%|██████████| 920/920 [03:42<00:00,  4.13it/s]\n",
      "100%|██████████| 263/263 [00:20<00:00, 12.79it/s]\n"
     ]
    },
    {
     "name": "stdout",
     "output_type": "stream",
     "text": [
      "Epoch:  46 Train Loss:  0.02265504135692266 Train Accuracy:  79.03593160417446 Train F1 Macro:  0.7910715633900982 Train F1 Micro:  0.7903593160417446\n",
      "Epoch:  46 Validation Loss:  0.022425638461961737 Validation Accuracy:  79.42469986924998 Validation F1 Macro:  0.7943500668648372 Validation F1 Micro:  0.7942469986924997\n",
      "---------------------------------------------------------------\n"
     ]
    },
    {
     "name": "stderr",
     "output_type": "stream",
     "text": [
      "100%|██████████| 920/920 [03:42<00:00,  4.13it/s]\n",
      "100%|██████████| 263/263 [00:20<00:00, 12.75it/s]\n"
     ]
    },
    {
     "name": "stdout",
     "output_type": "stream",
     "text": [
      "Epoch:  47 Train Loss:  0.022563425105315976 Train Accuracy:  79.13111466159025 Train F1 Macro:  0.7920874278752842 Train F1 Micro:  0.7913111466159024\n",
      "Epoch:  47 Validation Loss:  0.022327438481732128 Validation Accuracy:  79.54356353262808 Validation F1 Macro:  0.7962469772576724 Validation F1 Micro:  0.7954356353262809\n",
      "---------------------------------------------------------------\n"
     ]
    },
    {
     "name": "stderr",
     "output_type": "stream",
     "text": [
      "100%|██████████| 920/920 [03:42<00:00,  4.13it/s]\n",
      "100%|██████████| 263/263 [00:20<00:00, 12.71it/s]\n"
     ]
    },
    {
     "name": "stdout",
     "output_type": "stream",
     "text": [
      "Epoch:  48 Train Loss:  0.022436161806270803 Train Accuracy:  79.38946867457592 Train F1 Macro:  0.7946110385587333 Train F1 Micro:  0.7938946867457591\n",
      "Epoch:  48 Validation Loss:  0.022314815400426232 Validation Accuracy:  79.62676809699275 Validation F1 Macro:  0.7962919744162239 Validation F1 Micro:  0.7962676809699276\n",
      "---------------------------------------------------------------\n"
     ]
    },
    {
     "name": "stderr",
     "output_type": "stream",
     "text": [
      "100%|██████████| 920/920 [03:42<00:00,  4.13it/s]\n",
      "100%|██████████| 263/263 [00:20<00:00, 12.75it/s]\n"
     ]
    },
    {
     "name": "stdout",
     "output_type": "stream",
     "text": [
      "Epoch:  49 Train Loss:  0.022359742512291055 Train Accuracy:  79.30788319679097 Train F1 Macro:  0.7937443594631362 Train F1 Micro:  0.7930788319679097\n",
      "Epoch:  49 Validation Loss:  0.022232256555865797 Validation Accuracy:  79.61488173065494 Validation F1 Macro:  0.7975294559699425 Validation F1 Micro:  0.7961488173065494\n",
      "---------------------------------------------------------------\n"
     ]
    },
    {
     "data": {
      "image/png": "[encoded data removed]",
      "text/plain": [
       "<Figure size 640x480 with 1 Axes>"
      ]
     },
     "metadata": {},
     "output_type": "display_data"
    },
    {
     "data": {
      "image/png": "[encoded data removed]",
      "text/plain": [
       "<Figure size 640x480 with 1 Axes>"
      ]
     },
     "metadata": {},
     "output_type": "display_data"
    },
    {
     "data": {
      "image/png": "[encoded data removed]",
      "text/plain": [
       "<Figure size 640x480 with 1 Axes>"
      ]
     },
     "metadata": {},
     "output_type": "display_data"
    }
   ],
   "source": [
    "def training():\n",
    "    transform = transforms.Compose([\n",
    "    transforms.Resize((256, 256)),\n",
    "    transforms.ToTensor(),\n",
    "    transforms.Normalize(mean=[0.485, 0.456, 0.406], std=[0.229, 0.224, 0.225])\n",
    "    ])\n",
    "\n",
    "    train_dataset = torchvision.datasets.ImageFolder(root='/kaggle/input/indian-birds-25/Birds_25/train', transform=transform)\n",
    "    train_loader = DataLoader(train_dataset, batch_size=batch_size, shuffle=True, num_workers=num_workers)\n",
    "\n",
    "    val_dataset = torchvision.datasets.ImageFolder(root='/kaggle/input/indian-birds-25/Birds_25/val', transform=transform)\n",
    "    val_loader = DataLoader(val_dataset, batch_size=batch_size, shuffle=False, num_workers=num_workers)\n",
    "    \n",
    "    print(\"Train Data: \", len(train_dataset))\n",
    "    print(\"Validation Data: \", len(val_dataset))\n",
    "\n",
    "    net = final_resnet(3, r, n, norm_type)\n",
    "\n",
    "    net = net.to(device)\n",
    "\n",
    "    criterion = nn.CrossEntropyLoss()\n",
    "    optimizer = optim.Adam(net.parameters(), lr=0.0001)\n",
    "    scheduler = optim.lr_scheduler.CosineAnnealingLR(optimizer, T_max=50, eta_min=0.00001)\n",
    "\n",
    "    train_loss = []\n",
    "    val_loss = []\n",
    "    train_accuracy = []\n",
    "    val_accuracy = []\n",
    "    train_f1_macro = []\n",
    "    val_f1_macro = []\n",
    "    train_f1_micro = []\n",
    "    val_f1_micro = []\n",
    "\n",
    "    print(\"------------------------Training Started------------------------\")\n",
    "    for epoch in range(num_epochs):\n",
    "        net.train()\n",
    "        running_loss = 0.0\n",
    "        correct = 0\n",
    "        total = 0\n",
    "        y_true = []\n",
    "        y_pred = []\n",
    "        for i, data in enumerate(tqdm(train_loader)):\n",
    "            inputs, labels = data\n",
    "            inputs, labels = inputs.to(device), labels.to(device)\n",
    "            optimizer.zero_grad()\n",
    "            outputs = net(inputs)\n",
    "            loss = criterion(outputs, labels)\n",
    "            loss.backward()\n",
    "            optimizer.step()\n",
    "            running_loss += loss.item()\n",
    "            _, predicted = torch.max(outputs, 1)\n",
    "            total += labels.size(0)\n",
    "            correct += (predicted == labels).sum().item()\n",
    "            y_true.extend(labels.cpu().numpy())\n",
    "            y_pred.extend(predicted.cpu().numpy())\n",
    "        scheduler.step()\n",
    "        train_loss.append(running_loss/total)\n",
    "        train_accuracy.append((correct/total)*100)\n",
    "        train_f1_macro.append(f1_score(y_true, y_pred, average='macro'))\n",
    "        train_f1_micro.append(f1_score(y_true, y_pred, average='micro'))\n",
    "\n",
    "        net.eval()\n",
    "        running_loss = 0.0\n",
    "        correct = 0\n",
    "        total = 0\n",
    "        y_true = []\n",
    "        y_pred = []\n",
    "        with torch.no_grad():\n",
    "            for i, data in enumerate(tqdm(val_loader)):\n",
    "                inputs, labels = data\n",
    "                inputs, labels = inputs.to(device), labels.to(device)\n",
    "                outputs = net(inputs)\n",
    "                loss = criterion(outputs, labels)\n",
    "                running_loss += loss.item()\n",
    "                _, predicted = torch.max(outputs, 1)\n",
    "                total += labels.size(0)\n",
    "                correct += (predicted == labels).sum().item()\n",
    "                y_true.extend(labels.cpu().numpy())\n",
    "                y_pred.extend(predicted.cpu().numpy())\n",
    "\n",
    "        val_loss.append(running_loss/total)\n",
    "        val_accuracy.append((correct/total)*100)\n",
    "        val_f1_macro.append(f1_score(y_true, y_pred, average='macro'))\n",
    "        val_f1_micro.append(f1_score(y_true, y_pred, average='micro'))\n",
    "\n",
    "        print(\"Epoch: \", epoch, \"Train Loss: \", train_loss[-1], \"Train Accuracy: \", train_accuracy[-1], \"Train F1 Macro: \", train_f1_macro[-1], \"Train F1 Micro: \", train_f1_micro[-1])\n",
    "\n",
    "        print(\"Epoch: \", epoch, \"Validation Loss: \", val_loss[-1], \"Validation Accuracy: \", val_accuracy[-1], \"Validation F1 Macro: \", val_f1_macro[-1], \"Validation F1 Micro: \", val_f1_micro[-1])\n",
    "\n",
    "        print(\"---------------------------------------------------------------\")\n",
    "\n",
    "        with open('Part2-custom_instancenorm', 'a') as f:\n",
    "            f.write(\"Epoch: \" + str(epoch) + \" Train Loss: \" + str(train_loss[-1]) + \" Train Accuracy: \" + str(train_accuracy[-1]) + \" Train F1 Macro: \" + str(train_f1_macro[-1]) + \" Train F1 Micro: \" + str(train_f1_micro[-1]) + \"\\n\")\n",
    "            f.write(\"Epoch: \" + str(epoch) + \" Validation Loss: \" + str(val_loss[-1]) + \" Validation Accuracy: \" + str(val_accuracy[-1]) + \" Validation F1 Macro: \" + str(val_f1_macro[-1]) + \" Validation F1 Micro: \" + str(val_f1_micro[-1]) + \"\\n\")\n",
    "            f.write(\"---------------------------------------------------------------\\n\")\n",
    "\n",
    "    plt.plot(train_loss, label='Train Loss')\n",
    "    plt.plot(val_loss, label='Validation Loss')\n",
    "    plt.legend()\n",
    "    plt.show()\n",
    "\n",
    "    plt.plot(train_accuracy, label='Train Accuracy')\n",
    "    plt.plot(val_accuracy, label='Validation Accuracy')\n",
    "    plt.legend()\n",
    "    plt.show()\n",
    "\n",
    "    plt.plot(train_f1_macro, label='Train F1 Macro')\n",
    "    plt.plot(val_f1_macro, label='Validation F1 Macro')\n",
    "    plt.legend()\n",
    "\n",
    "    plt.plot(train_f1_micro, label='Train F1 Micro')\n",
    "    plt.plot(val_f1_micro, label='Validation F1 Micro')\n",
    "    plt.legend()\n",
    "    plt.show()\n",
    "\n",
    "    torch.save(net.state_dict(), 'Part2-custom_instancenorm.pth')\n",
    "    \n",
    "    \n",
    "training()\n",
    "\n",
    "    \n",
    "        "
   ]
  }
 ],
 "metadata": {
  "kaggle": {
   "accelerator": "gpu",
   "dataSources": [
    {
     "datasetId": 4682062,
     "sourceId": 7959413,
     "sourceType": "datasetVersion"
    }
   ],
   "isGpuEnabled": true,
   "isInternetEnabled": true,
   "language": "python",
   "sourceType": "notebook"
  },
  "kernelspec": {
   "display_name": "Python 3",
   "language": "python",
   "name": "python3"
  },
  "language_info": {
   "codemirror_mode": {
    "name": "ipython",
    "version": 3
   },
   "file_extension": ".py",
   "mimetype": "text/x-python",
   "name": "python",
   "nbconvert_exporter": "python",
   "pygments_lexer": "ipython3",
   "version": "3.10.13"
  },
  "papermill": {
   "default_parameters": {},
   "duration": 12203.707396,
   "end_time": "2024-03-28T17:35:18.830709",
   "environment_variables": {},
   "exception": null,
   "input_path": "__notebook__.ipynb",
   "output_path": "__notebook__.ipynb",
   "parameters": {},
   "start_time": "2024-03-28T14:11:55.123313",
   "version": "2.5.0"
  }
 },
 "nbformat": 4,
 "nbformat_minor": 5
}
