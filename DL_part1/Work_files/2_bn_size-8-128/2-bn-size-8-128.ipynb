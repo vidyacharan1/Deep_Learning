{
 "cells": [
  {
   "cell_type": "code",
   "execution_count": 1,
   "id": "29663335",
   "metadata": {
    "execution": {
     "iopub.execute_input": "2024-03-30T18:04:53.965098Z",
     "iopub.status.busy": "2024-03-30T18:04:53.964143Z",
     "iopub.status.idle": "2024-03-30T18:05:02.646301Z",
     "shell.execute_reply": "2024-03-30T18:05:02.645530Z"
    },
    "papermill": {
     "duration": 8.689394,
     "end_time": "2024-03-30T18:05:02.648637",
     "exception": false,
     "start_time": "2024-03-30T18:04:53.959243",
     "status": "completed"
    },
    "tags": []
   },
   "outputs": [],
   "source": [
    "import os\n",
    "from time import time\n",
    "import numpy as np\n",
    "import matplotlib.pyplot as plt\n",
    "import torch\n",
    "import torchvision\n",
    "import torchvision.transforms as transforms\n",
    "import torch.optim as optim\n",
    "from torch.utils.data.dataloader import DataLoader\n",
    "from torch.utils.data import random_split\n",
    "from sklearn.metrics import r2_score, precision_score, recall_score, f1_score, confusion_matrix, accuracy_score\n",
    "from tqdm import tqdm"
   ]
  },
  {
   "cell_type": "code",
   "execution_count": 2,
   "id": "ab5ab3e7",
   "metadata": {
    "execution": {
     "iopub.execute_input": "2024-03-30T18:05:02.656171Z",
     "iopub.status.busy": "2024-03-30T18:05:02.655785Z",
     "iopub.status.idle": "2024-03-30T18:05:02.828701Z",
     "shell.execute_reply": "2024-03-30T18:05:02.827759Z"
    },
    "papermill": {
     "duration": 0.179153,
     "end_time": "2024-03-30T18:05:02.830930",
     "exception": false,
     "start_time": "2024-03-30T18:05:02.651777",
     "status": "completed"
    },
    "tags": []
   },
   "outputs": [],
   "source": [
    "# Implement from scratch the following normalization schemes. They should\n",
    "# be implemented as a sub-class of torch.nn.Module.\n",
    "\n",
    "# (a) Batch Normalization (BN) [3]\n",
    "# (b) Instance Normalization (IN) [7]\n",
    "# (c) Batch-Instance Normalization (BIN) [4]\n",
    "# (d) Layer Normalization (LN) [1]\n",
    "# (e) Group Normalization (GN) [8]\n",
    "\n",
    "import torch\n",
    "import torch.nn as nn\n",
    "\n",
    "class NoNormalise(nn.Module):\n",
    "    def __init__(self, num_features, eps=1e-5, momentum=0.1):\n",
    "        super(NoNormalise, self).__init__()\n",
    "        self.num_features = num_features\n",
    "        self.eps = eps\n",
    "        self.momentum = momentum\n",
    "        self.gamma = nn.Parameter(torch.ones(num_features))\n",
    "        self.beta = nn.Parameter(torch.zeros(num_features))\n",
    "\n",
    "    def forward(self, x):\n",
    "        return x\n",
    "\n",
    "class BatchNormalise(nn.Module):\n",
    "    def __init__(self, num_features, eps=1e-5, momentum=0.1):\n",
    "        super(BatchNormalise, self).__init__()\n",
    "        self.num_features = num_features\n",
    "        self.eps = eps\n",
    "        self.momentum = momentum\n",
    "        self.gamma = nn.Parameter(torch.ones(num_features))\n",
    "        self.beta = nn.Parameter(torch.zeros(num_features))\n",
    "        self.running_mean = 0\n",
    "        self.running_var = 0\n",
    "        # shape = (1, num_features, 1, 1)\n",
    "        \n",
    "    def forward(self, x):\n",
    "        if self.training:\n",
    "            mean = x.mean(dim=[0, 2, 3])\n",
    "            variance = x.var(dim=[0, 2, 3])\n",
    "            self.running_mean = (1 - self.momentum) * self.running_mean + self.momentum * mean\n",
    "            self.running_var = (1 - self.momentum) * self.running_var + self.momentum * variance\n",
    "        else:\n",
    "            mean = self.running_mean\n",
    "            variance = self.running_var\n",
    "        x = (x - mean.view(1, -1, 1, 1)) / (variance.view(1, -1, 1, 1) + self.eps).sqrt()\n",
    "        x = self.gamma.view(1, -1, 1, 1) * x + self.beta.view(1, -1, 1, 1)\n",
    "        return x\n",
    "    \n",
    "\n",
    "class InstanceNormalise(nn.Module):\n",
    "    def __init__(self, num_features, eps=1e-5, momentum=0.1):\n",
    "        super(InstanceNormalise, self).__init__()\n",
    "        self.num_features = num_features\n",
    "        self.eps = eps\n",
    "        self.momentum = momentum\n",
    "        self.gamma = nn.Parameter(torch.ones(num_features))\n",
    "        self.beta = nn.Parameter(torch.zeros(num_features))\n",
    "        shape = (1, num_features, 1, 1)\n",
    "\n",
    "    def forward(self, x):\n",
    "        if self.training:\n",
    "            mean = x.mean(dim=[2, 3], keepdim=True)\n",
    "            variance = x.var(dim=[2, 3], keepdim=True)\n",
    "        else:\n",
    "            mean = x.mean(dim=[2, 3], keepdim=True)\n",
    "            variance = x.var(dim=[2, 3], keepdim=True)\n",
    "        x = (x - mean) / (variance + self.eps).sqrt()\n",
    "        x = self.gamma.view(1, -1, 1, 1) * x + self.beta.view(1, -1, 1, 1)\n",
    "        return x\n",
    "\n",
    "  \n",
    "\n",
    "class BatchInstanceNormalise(nn.Module):\n",
    "    def __init__(self, num_features, eps=1e-5, momentum=0.1):\n",
    "        super(BatchInstanceNormalise, self).__init__()\n",
    "        self.num_features = num_features\n",
    "        self.eps = eps\n",
    "        self.momentum = momentum\n",
    "        self.gamma = nn.Parameter(torch.ones(num_features))\n",
    "        self.beta = nn.Parameter(torch.zeros(num_features))\n",
    "        self.running_mean = 0\n",
    "        self.running_var = 0\n",
    "        shape = (1, num_features, 1, 1)\n",
    "\n",
    "    def forward(self, x):\n",
    "        if self.training:\n",
    "            mean = x.mean(dim=[0, 2, 3])\n",
    "            variance = x.var(dim=[0, 2, 3])\n",
    "            self.running_mean = (1 - self.momentum) * self.running_mean + self.momentum * mean\n",
    "            self.running_var = (1 - self.momentum) * self.running_var + self.momentum * variance\n",
    "        else:\n",
    "            mean = self.running_mean\n",
    "            variance = self.running_var\n",
    "        x = (x - mean.view(1, -1, 1, 1)) / (variance.view(1, -1, 1, 1) + self.eps).sqrt()\n",
    "        x = self.gamma.view(1, -1, 1, 1) * x + self.beta.view(1, -1, 1, 1)\n",
    "        mean = x.mean(dim=[2, 3], keepdim=True)\n",
    "        variance = x.var(dim=[2, 3], keepdim=True)\n",
    "        x = (x - mean) / (variance + self.eps).sqrt()\n",
    "        x = self.gamma.view(1, -1, 1, 1) * x + self.beta.view(1, -1, 1, 1)\n",
    "        return x\n",
    "\n",
    "    \n",
    "\n",
    "class LayerNormalise(nn.Module):\n",
    "    def __init__(self, num_features, eps=1e-5, momentum=0.1):\n",
    "        super(LayerNormalise, self).__init__()\n",
    "        self.num_features = num_features\n",
    "        self.eps = eps\n",
    "        self.momentum = momentum\n",
    "        self.gamma = nn.Parameter(torch.ones(num_features))\n",
    "        self.beta = nn.Parameter(torch.zeros(num_features))\n",
    "        shape = (1, num_features, 1, 1)\n",
    "\n",
    "    def forward(self, x):\n",
    "        if self.training:\n",
    "            mean = x.mean(dim=[1, 2, 3], keepdim=True)\n",
    "            variance = x.var(dim=[1, 2, 3], keepdim=True)\n",
    "        else:\n",
    "            mean = x.mean(dim=[1, 2, 3], keepdim=True)\n",
    "            variance = x.var(dim=[1, 2, 3], keepdim=True)\n",
    "        x = (x - mean) / (variance + self.eps).sqrt()\n",
    "        x = self.gamma.view(1, -1, 1, 1) * x + self.beta.view(1, -1, 1, 1)\n",
    "        return x\n",
    "    \n",
    "\n",
    "class GroupNormalise(nn.Module):\n",
    "    def __init__(self, num_features, num_groups=4, eps=1e-5, momentum=0.1):\n",
    "        super(GroupNormalise, self).__init__()\n",
    "        self.num_features = num_features\n",
    "        self.num_groups = num_groups\n",
    "        self.eps = eps\n",
    "        self.momentum = momentum\n",
    "        self.gamma = nn.Parameter(torch.ones(1, num_features, 1, 1))\n",
    "        self.beta = nn.Parameter(torch.zeros(1, num_features, 1, 1))\n",
    "\n",
    "    def forward(self, x):\n",
    "        N, C, H, W = x.size()\n",
    "        x = x.view(N, self.num_groups, int(C / self.num_groups), H, W)\n",
    "        mean = x.mean(dim=[1, 2, 3], keepdim=True)\n",
    "        variance = x.var(dim=[1, 2, 3], keepdim=True)\n",
    "        x = (x - mean) / (variance + self.eps).sqrt()\n",
    "        x = x.view(N, C, H, W)\n",
    "        x = self.gamma * x + self.beta\n",
    "        return x"
   ]
  },
  {
   "cell_type": "code",
   "execution_count": 3,
   "id": "615a16fa",
   "metadata": {
    "execution": {
     "iopub.execute_input": "2024-03-30T18:05:02.838359Z",
     "iopub.status.busy": "2024-03-30T18:05:02.838066Z",
     "iopub.status.idle": "2024-03-30T18:05:02.857100Z",
     "shell.execute_reply": "2024-03-30T18:05:02.856242Z"
    },
    "papermill": {
     "duration": 0.024971,
     "end_time": "2024-03-30T18:05:02.858971",
     "exception": false,
     "start_time": "2024-03-30T18:05:02.834000",
     "status": "completed"
    },
    "tags": []
   },
   "outputs": [],
   "source": [
    "def norms(dimension, norm_type):\n",
    "    if norm_type == 'none':\n",
    "        return NoNormalise(dimension)\n",
    "    elif norm_type == 'batch':\n",
    "        return BatchNormalise(dimension)\n",
    "    elif norm_type == 'instance':\n",
    "        return InstanceNormalise(dimension)\n",
    "    elif norm_type == 'batchinstance':\n",
    "        return BatchInstanceNormalise(dimension)\n",
    "    elif norm_type == 'layer':\n",
    "        return LayerNormalise(dimension)\n",
    "    elif norm_type == 'group':\n",
    "        return GroupNormalise(dimension)\n",
    "    else:\n",
    "        raise ValueError('Invalid norm type')\n",
    "    \n",
    "\n",
    "class resd_block(nn.Module):\n",
    "    def __init__(self, in_chs, out_chs, downsampling=None, stride=1, norm_type='none'):\n",
    "        super(resd_block, self).__init__()\n",
    "        self.conv1 = nn.Conv2d(in_chs, out_chs, kernel_size=3, stride=stride, padding=1)\n",
    "        self.bn1 = norms(out_chs, norm_type)\n",
    "        self.conv2 = nn.Conv2d(out_chs, out_chs, kernel_size=3, stride=1, padding=1)\n",
    "        self.bn2 = norms(out_chs, norm_type)\n",
    "        self.downsampling = downsampling\n",
    "        self.relu = nn.ReLU()\n",
    "        self.out_chs = out_chs\n",
    "\n",
    "    def forward(self, x):\n",
    "        identity = x\n",
    "        out = self.conv1(x)\n",
    "        out = self.bn1(out)\n",
    "        out = self.relu(out)\n",
    "        out = self.conv2(out)\n",
    "        out = self.bn2(out)\n",
    "        if self.downsampling is not None:\n",
    "            identity = self.downsampling(x)\n",
    "        out += identity\n",
    "        out = self.relu(out)\n",
    "        return out\n",
    "    \n",
    "\n",
    "class resnet(nn.Module): # n layers of blocks, r classes\n",
    "    def __init__(self, resd_block, layers, img_chs, r, norm_type):\n",
    "        super(resnet, self).__init__()\n",
    "        self.in_chs = 16\n",
    "        self.conv1 = nn.Conv2d(img_chs, 16, kernel_size=3, stride=1, padding=1)\n",
    "        self.bn = norms(16, norm_type)\n",
    "        self.relu = nn.ReLU()\n",
    "        self.layer1 = self.add_layer(resd_block, 16, layers[0], 1, norm_type)\n",
    "        self.layer2 = self.add_layer(resd_block, 32, layers[1], 2, norm_type)\n",
    "        self.layer3 = self.add_layer(resd_block, 64, layers[2], 2, norm_type)\n",
    "        self.avg_pool = nn.AvgPool2d(kernel_size=64)\n",
    "        self.fc = nn.Linear(64, r)\n",
    "\n",
    "    def add_layer(self, resd_block, out_chs, n, stride, norm_type):\n",
    "        downsampling = None\n",
    "        if (stride != 1) or (self.in_chs != out_chs):\n",
    "            downsampling = nn.Sequential(nn.Conv2d(self.in_chs, out_chs, kernel_size=3, stride=stride, padding=1), norms(out_chs, norm_type))\n",
    "        layers = []\n",
    "        layers.append(resd_block(self.in_chs, out_chs, downsampling, stride, norm_type))\n",
    "        self.in_chs = out_chs\n",
    "\n",
    "        for i in range(1, n):\n",
    "            layers.append(resd_block(self.in_chs, out_chs, norm_type=norm_type))\n",
    "            \n",
    "        return nn.Sequential(*layers)\n",
    "    \n",
    "\n",
    "    def forward(self, x):\n",
    "        out = self.conv1(x)\n",
    "        out = self.bn(out)\n",
    "        out = self.relu(out)\n",
    "        out = self.layer1(out)\n",
    "        out = self.layer2(out)\n",
    "        out = self.layer3(out)\n",
    "        out = self.avg_pool(out)\n",
    "        out = out.view(out.size(0), -1)\n",
    "        out = self.fc(out)\n",
    "        return out\n",
    "    \n",
    "\n",
    "def final_resnet(img_chs, r, n, norm_type):\n",
    "    return resnet(resd_block, [n, n, n], img_chs, r, norm_type)"
   ]
  },
  {
   "cell_type": "code",
   "execution_count": 4,
   "id": "3ae5802c",
   "metadata": {
    "execution": {
     "iopub.execute_input": "2024-03-30T18:05:02.865802Z",
     "iopub.status.busy": "2024-03-30T18:05:02.865163Z",
     "iopub.status.idle": "2024-03-30T18:05:02.947012Z",
     "shell.execute_reply": "2024-03-30T18:05:02.945928Z"
    },
    "papermill": {
     "duration": 0.087191,
     "end_time": "2024-03-30T18:05:02.948888",
     "exception": false,
     "start_time": "2024-03-30T18:05:02.861697",
     "status": "completed"
    },
    "tags": []
   },
   "outputs": [
    {
     "name": "stdout",
     "output_type": "stream",
     "text": [
      "Device:  cuda:0\n"
     ]
    }
   ],
   "source": [
    "num_epochs = 50 \n",
    "num_workers = 4\n",
    "device = torch.device(\"cuda:0\" if torch.cuda.is_available() else \"cpu\")\n",
    "print(\"Device: \", device)"
   ]
  },
  {
   "cell_type": "code",
   "execution_count": 5,
   "id": "b26f9ad6",
   "metadata": {
    "execution": {
     "iopub.execute_input": "2024-03-30T18:05:02.956411Z",
     "iopub.status.busy": "2024-03-30T18:05:02.956077Z",
     "iopub.status.idle": "2024-03-31T01:26:46.317362Z",
     "shell.execute_reply": "2024-03-31T01:26:46.316534Z"
    },
    "papermill": {
     "duration": 26503.367406,
     "end_time": "2024-03-31T01:26:46.319459",
     "exception": false,
     "start_time": "2024-03-30T18:05:02.952053",
     "status": "completed"
    },
    "tags": []
   },
   "outputs": [
    {
     "name": "stdout",
     "output_type": "stream",
     "text": [
      "Train Data:  29417\n",
      "------------------------Training Started------------------------\n"
     ]
    },
    {
     "name": "stderr",
     "output_type": "stream",
     "text": [
      "100%|██████████| 3678/3678 [04:56<00:00, 12.42it/s]\n",
      "100%|██████████| 230/230 [03:41<00:00,  1.04it/s]\n"
     ]
    },
    {
     "name": "stdout",
     "output_type": "stream",
     "text": [
      "Epoch:  0 Train Loss_8:  0.3478876723144803 Train Accuracy_8:  17.649658360811777\n",
      "Epoch:  0 Train Loss_128:  0.018729510514632515 Train Accuracy_128:  29.336778053506475\n",
      "---------------------------------------------------------------\n"
     ]
    },
    {
     "name": "stderr",
     "output_type": "stream",
     "text": [
      "100%|██████████| 3678/3678 [05:04<00:00, 12.08it/s]\n",
      "100%|██████████| 230/230 [03:41<00:00,  1.04it/s]\n"
     ]
    },
    {
     "name": "stdout",
     "output_type": "stream",
     "text": [
      "Epoch:  1 Train Loss_8:  0.3033278867600829 Train Accuracy_8:  27.188360471836013\n",
      "Epoch:  1 Train Loss_128:  0.016914886746995126 Train Accuracy_128:  34.565047421558965\n",
      "---------------------------------------------------------------\n"
     ]
    },
    {
     "name": "stderr",
     "output_type": "stream",
     "text": [
      "100%|██████████| 3678/3678 [05:06<00:00, 11.99it/s]\n",
      "100%|██████████| 230/230 [03:42<00:00,  1.04it/s]\n"
     ]
    },
    {
     "name": "stdout",
     "output_type": "stream",
     "text": [
      "Epoch:  2 Train Loss_8:  0.280117124632124 Train Accuracy_8:  32.09028792874869\n",
      "Epoch:  2 Train Loss_128:  0.015820262433476204 Train Accuracy_128:  38.280586055682086\n",
      "---------------------------------------------------------------\n"
     ]
    },
    {
     "name": "stderr",
     "output_type": "stream",
     "text": [
      "100%|██████████| 3678/3678 [05:04<00:00, 12.07it/s]\n",
      "100%|██████████| 230/230 [03:42<00:00,  1.03it/s]\n"
     ]
    },
    {
     "name": "stdout",
     "output_type": "stream",
     "text": [
      "Epoch:  3 Train Loss_8:  0.2626879792949841 Train Accuracy_8:  35.51347860080906\n",
      "Epoch:  3 Train Loss_128:  0.015181963556493719 Train Accuracy_128:  40.46639698133732\n",
      "---------------------------------------------------------------\n"
     ]
    },
    {
     "name": "stderr",
     "output_type": "stream",
     "text": [
      "100%|██████████| 3678/3678 [05:04<00:00, 12.06it/s]\n",
      "100%|██████████| 230/230 [03:42<00:00,  1.04it/s]\n"
     ]
    },
    {
     "name": "stdout",
     "output_type": "stream",
     "text": [
      "Epoch:  4 Train Loss_8:  0.25028675270626827 Train Accuracy_8:  38.627324336268146\n",
      "Epoch:  4 Train Loss_128:  0.014390463353613603 Train Accuracy_128:  43.86919128395146\n",
      "---------------------------------------------------------------\n"
     ]
    },
    {
     "name": "stderr",
     "output_type": "stream",
     "text": [
      "100%|██████████| 3678/3678 [05:06<00:00, 12.02it/s]\n",
      "100%|██████████| 230/230 [03:42<00:00,  1.04it/s]\n"
     ]
    },
    {
     "name": "stdout",
     "output_type": "stream",
     "text": [
      "Epoch:  5 Train Loss_8:  0.23949055416674708 Train Accuracy_8:  40.6125709623687\n",
      "Epoch:  5 Train Loss_128:  0.013772655425723503 Train Accuracy_128:  46.83006424856376\n",
      "---------------------------------------------------------------\n"
     ]
    },
    {
     "name": "stderr",
     "output_type": "stream",
     "text": [
      "100%|██████████| 3678/3678 [05:05<00:00, 12.04it/s]\n",
      "100%|██████████| 230/230 [03:41<00:00,  1.04it/s]\n"
     ]
    },
    {
     "name": "stdout",
     "output_type": "stream",
     "text": [
      "Epoch:  6 Train Loss_8:  0.23045974641417316 Train Accuracy_8:  42.74399156950063\n",
      "Epoch:  6 Train Loss_128:  0.013252352543268172 Train Accuracy_128:  48.99547880477275\n",
      "---------------------------------------------------------------\n"
     ]
    },
    {
     "name": "stderr",
     "output_type": "stream",
     "text": [
      "100%|██████████| 3678/3678 [05:05<00:00, 12.04it/s]\n",
      "100%|██████████| 230/230 [03:42<00:00,  1.04it/s]\n"
     ]
    },
    {
     "name": "stdout",
     "output_type": "stream",
     "text": [
      "Epoch:  7 Train Loss_8:  0.22220192987062906 Train Accuracy_8:  44.83122004283238\n",
      "Epoch:  7 Train Loss_128:  0.01277113298379893 Train Accuracy_128:  50.973926641057886\n",
      "---------------------------------------------------------------\n"
     ]
    },
    {
     "name": "stderr",
     "output_type": "stream",
     "text": [
      "100%|██████████| 3678/3678 [05:06<00:00, 12.00it/s]\n",
      "100%|██████████| 230/230 [03:41<00:00,  1.04it/s]\n"
     ]
    },
    {
     "name": "stdout",
     "output_type": "stream",
     "text": [
      "Epoch:  8 Train Loss_8:  0.21456786027215463 Train Accuracy_8:  47.21759526804229\n",
      "Epoch:  8 Train Loss_128:  0.012342601231416386 Train Accuracy_128:  52.74841078288065\n",
      "---------------------------------------------------------------\n"
     ]
    },
    {
     "name": "stderr",
     "output_type": "stream",
     "text": [
      "100%|██████████| 3678/3678 [05:05<00:00, 12.06it/s]\n",
      "100%|██████████| 230/230 [03:42<00:00,  1.03it/s]\n"
     ]
    },
    {
     "name": "stdout",
     "output_type": "stream",
     "text": [
      "Epoch:  9 Train Loss_8:  0.20735085009312845 Train Accuracy_8:  48.822109664479726\n",
      "Epoch:  9 Train Loss_128:  0.011951980039046274 Train Accuracy_128:  54.30193425570249\n",
      "---------------------------------------------------------------\n"
     ]
    },
    {
     "name": "stderr",
     "output_type": "stream",
     "text": [
      "100%|██████████| 3678/3678 [05:05<00:00, 12.04it/s]\n",
      "100%|██████████| 230/230 [03:42<00:00,  1.03it/s]\n"
     ]
    },
    {
     "name": "stdout",
     "output_type": "stream",
     "text": [
      "Epoch:  10 Train Loss_8:  0.20238308188754534 Train Accuracy_8:  50.03229425162321\n",
      "Epoch:  10 Train Loss_128:  0.0115829921779405 Train Accuracy_128:  55.753475881293134\n",
      "---------------------------------------------------------------\n"
     ]
    },
    {
     "name": "stderr",
     "output_type": "stream",
     "text": [
      "100%|██████████| 3678/3678 [05:08<00:00, 11.92it/s]\n",
      "100%|██████████| 230/230 [03:42<00:00,  1.03it/s]\n"
     ]
    },
    {
     "name": "stdout",
     "output_type": "stream",
     "text": [
      "Epoch:  11 Train Loss_8:  0.19612823300035498 Train Accuracy_8:  51.69799775639936\n",
      "Epoch:  11 Train Loss_128:  0.011279038222004588 Train Accuracy_128:  57.45657273005405\n",
      "---------------------------------------------------------------\n"
     ]
    },
    {
     "name": "stderr",
     "output_type": "stream",
     "text": [
      "100%|██████████| 3678/3678 [05:08<00:00, 11.92it/s]\n",
      "100%|██████████| 230/230 [03:42<00:00,  1.03it/s]\n"
     ]
    },
    {
     "name": "stdout",
     "output_type": "stream",
     "text": [
      "Epoch:  12 Train Loss_8:  0.19032573603504183 Train Accuracy_8:  53.771628650100276\n",
      "Epoch:  12 Train Loss_128:  0.01103004647552649 Train Accuracy_128:  58.8061325084135\n",
      "---------------------------------------------------------------\n"
     ]
    },
    {
     "name": "stderr",
     "output_type": "stream",
     "text": [
      "100%|██████████| 3678/3678 [05:11<00:00, 11.81it/s]\n",
      "100%|██████████| 230/230 [03:42<00:00,  1.03it/s]\n"
     ]
    },
    {
     "name": "stdout",
     "output_type": "stream",
     "text": [
      "Epoch:  13 Train Loss_8:  0.18566469633024482 Train Accuracy_8:  55.02940476595166\n",
      "Epoch:  13 Train Loss_128:  0.010744786892254315 Train Accuracy_128:  59.71717034367883\n",
      "---------------------------------------------------------------\n"
     ]
    },
    {
     "name": "stderr",
     "output_type": "stream",
     "text": [
      "100%|██████████| 3678/3678 [05:06<00:00, 12.02it/s]\n",
      "100%|██████████| 230/230 [03:42<00:00,  1.03it/s]\n"
     ]
    },
    {
     "name": "stdout",
     "output_type": "stream",
     "text": [
      "Epoch:  14 Train Loss_8:  0.18129355805036176 Train Accuracy_8:  56.12061053132542\n",
      "Epoch:  14 Train Loss_128:  0.010523468915523911 Train Accuracy_128:  60.702994866913684\n",
      "---------------------------------------------------------------\n"
     ]
    },
    {
     "name": "stderr",
     "output_type": "stream",
     "text": [
      "100%|██████████| 3678/3678 [05:06<00:00, 11.99it/s]\n",
      "100%|██████████| 230/230 [03:42<00:00,  1.03it/s]\n"
     ]
    },
    {
     "name": "stdout",
     "output_type": "stream",
     "text": [
      "Epoch:  15 Train Loss_8:  0.17843338148527524 Train Accuracy_8:  56.84128225175918\n",
      "Epoch:  15 Train Loss_128:  0.010348560691191857 Train Accuracy_128:  61.66502362579461\n",
      "---------------------------------------------------------------\n"
     ]
    },
    {
     "name": "stderr",
     "output_type": "stream",
     "text": [
      "100%|██████████| 3678/3678 [05:04<00:00, 12.09it/s]\n",
      "100%|██████████| 230/230 [03:42<00:00,  1.03it/s]\n"
     ]
    },
    {
     "name": "stdout",
     "output_type": "stream",
     "text": [
      "Epoch:  16 Train Loss_8:  0.17405091182385715 Train Accuracy_8:  58.024271679641025\n",
      "Epoch:  16 Train Loss_128:  0.01017481885339068 Train Accuracy_128:  62.17493286195057\n",
      "---------------------------------------------------------------\n"
     ]
    },
    {
     "name": "stderr",
     "output_type": "stream",
     "text": [
      "100%|██████████| 3678/3678 [05:09<00:00, 11.88it/s]\n",
      "100%|██████████| 230/230 [03:42<00:00,  1.03it/s]\n"
     ]
    },
    {
     "name": "stdout",
     "output_type": "stream",
     "text": [
      "Epoch:  17 Train Loss_8:  0.170669129627722 Train Accuracy_8:  59.329639324200286\n",
      "Epoch:  17 Train Loss_128:  0.010013962438754352 Train Accuracy_128:  62.76302818098378\n",
      "---------------------------------------------------------------\n"
     ]
    },
    {
     "name": "stderr",
     "output_type": "stream",
     "text": [
      "100%|██████████| 3678/3678 [05:06<00:00, 12.01it/s]\n",
      "100%|██████████| 230/230 [03:42<00:00,  1.03it/s]\n"
     ]
    },
    {
     "name": "stdout",
     "output_type": "stream",
     "text": [
      "Epoch:  18 Train Loss_8:  0.1681096292392651 Train Accuracy_8:  59.45541693578543\n",
      "Epoch:  18 Train Loss_128:  0.009881181177464187 Train Accuracy_128:  63.442907162525074\n",
      "---------------------------------------------------------------\n"
     ]
    },
    {
     "name": "stderr",
     "output_type": "stream",
     "text": [
      "100%|██████████| 3678/3678 [05:07<00:00, 11.98it/s]\n",
      "100%|██████████| 230/230 [03:42<00:00,  1.03it/s]\n"
     ]
    },
    {
     "name": "stdout",
     "output_type": "stream",
     "text": [
      "Epoch:  19 Train Loss_8:  0.1658006150373106 Train Accuracy_8:  60.46503722337424\n",
      "Epoch:  19 Train Loss_128:  0.00974179361347728 Train Accuracy_128:  63.77944725838801\n",
      "---------------------------------------------------------------\n"
     ]
    },
    {
     "name": "stderr",
     "output_type": "stream",
     "text": [
      "100%|██████████| 3678/3678 [05:05<00:00, 12.02it/s]\n",
      "100%|██████████| 230/230 [03:42<00:00,  1.03it/s]\n"
     ]
    },
    {
     "name": "stdout",
     "output_type": "stream",
     "text": [
      "Epoch:  20 Train Loss_8:  0.16305448825307392 Train Accuracy_8:  61.236699867423596\n",
      "Epoch:  20 Train Loss_128:  0.009669138775175917 Train Accuracy_128:  64.4083353163137\n",
      "---------------------------------------------------------------\n"
     ]
    },
    {
     "name": "stderr",
     "output_type": "stream",
     "text": [
      "100%|██████████| 3678/3678 [05:09<00:00, 11.89it/s]\n",
      "100%|██████████| 230/230 [03:42<00:00,  1.03it/s]\n"
     ]
    },
    {
     "name": "stdout",
     "output_type": "stream",
     "text": [
      "Epoch:  21 Train Loss_8:  0.16227732512617546 Train Accuracy_8:  61.399870822993506\n",
      "Epoch:  21 Train Loss_128:  0.009617487799567346 Train Accuracy_128:  64.29275588945168\n",
      "---------------------------------------------------------------\n"
     ]
    },
    {
     "name": "stderr",
     "output_type": "stream",
     "text": [
      "100%|██████████| 3678/3678 [05:07<00:00, 11.97it/s]\n",
      "100%|██████████| 230/230 [03:42<00:00,  1.03it/s]\n"
     ]
    },
    {
     "name": "stdout",
     "output_type": "stream",
     "text": [
      "Epoch:  22 Train Loss_8:  0.16060477505729706 Train Accuracy_8:  61.99136553693443\n",
      "Epoch:  22 Train Loss_128:  0.009498948686917245 Train Accuracy_128:  64.775469966346\n",
      "---------------------------------------------------------------\n"
     ]
    },
    {
     "name": "stderr",
     "output_type": "stream",
     "text": [
      "100%|██████████| 3678/3678 [05:10<00:00, 11.85it/s]\n",
      "100%|██████████| 230/230 [03:42<00:00,  1.03it/s]\n"
     ]
    },
    {
     "name": "stdout",
     "output_type": "stream",
     "text": [
      "Epoch:  23 Train Loss_8:  0.15919150104860513 Train Accuracy_8:  62.273515314274064\n",
      "Epoch:  23 Train Loss_128:  0.00948002267330424 Train Accuracy_128:  65.1528028011014\n",
      "---------------------------------------------------------------\n"
     ]
    },
    {
     "name": "stderr",
     "output_type": "stream",
     "text": [
      "100%|██████████| 3678/3678 [05:09<00:00, 11.88it/s]\n",
      "100%|██████████| 230/230 [03:42<00:00,  1.03it/s]\n"
     ]
    },
    {
     "name": "stdout",
     "output_type": "stream",
     "text": [
      "Epoch:  24 Train Loss_8:  0.15803765160617536 Train Accuracy_8:  62.34830200224361\n",
      "Epoch:  24 Train Loss_128:  0.009428593189422865 Train Accuracy_128:  65.58792534928783\n",
      "---------------------------------------------------------------\n"
     ]
    },
    {
     "name": "stderr",
     "output_type": "stream",
     "text": [
      "100%|██████████| 3678/3678 [05:08<00:00, 11.92it/s]\n",
      "100%|██████████| 230/230 [03:42<00:00,  1.03it/s]\n"
     ]
    },
    {
     "name": "stdout",
     "output_type": "stream",
     "text": [
      "Epoch:  25 Train Loss_8:  0.15768557688670962 Train Accuracy_8:  62.72563483699901\n",
      "Epoch:  25 Train Loss_128:  0.009372018124920493 Train Accuracy_128:  65.71030356596526\n",
      "---------------------------------------------------------------\n"
     ]
    },
    {
     "name": "stderr",
     "output_type": "stream",
     "text": [
      "100%|██████████| 3678/3678 [05:07<00:00, 11.98it/s]\n",
      "100%|██████████| 230/230 [03:42<00:00,  1.03it/s]\n"
     ]
    },
    {
     "name": "stdout",
     "output_type": "stream",
     "text": [
      "Epoch:  26 Train Loss_8:  0.15646802926659645 Train Accuracy_8:  63.13356222592379\n",
      "Epoch:  26 Train Loss_128:  0.009338236199150834 Train Accuracy_128:  65.72390114559609\n",
      "---------------------------------------------------------------\n"
     ]
    },
    {
     "name": "stderr",
     "output_type": "stream",
     "text": [
      "100%|██████████| 3678/3678 [05:08<00:00, 11.94it/s]\n",
      "100%|██████████| 230/230 [03:42<00:00,  1.03it/s]\n"
     ]
    },
    {
     "name": "stdout",
     "output_type": "stream",
     "text": [
      "Epoch:  27 Train Loss_8:  0.15596192011021254 Train Accuracy_8:  63.075772512492776\n",
      "Epoch:  27 Train Loss_128:  0.00927194407208551 Train Accuracy_128:  66.21681340721352\n",
      "---------------------------------------------------------------\n"
     ]
    },
    {
     "name": "stderr",
     "output_type": "stream",
     "text": [
      "100%|██████████| 3678/3678 [05:09<00:00, 11.87it/s]\n",
      "100%|██████████| 230/230 [03:42<00:00,  1.03it/s]\n"
     ]
    },
    {
     "name": "stdout",
     "output_type": "stream",
     "text": [
      "Epoch:  28 Train Loss_8:  0.155895082017204 Train Accuracy_8:  63.13356222592379\n",
      "Epoch:  28 Train Loss_128:  0.009196468830011385 Train Accuracy_128:  66.33919162389094\n",
      "---------------------------------------------------------------\n"
     ]
    },
    {
     "name": "stderr",
     "output_type": "stream",
     "text": [
      "100%|██████████| 3678/3678 [05:07<00:00, 11.94it/s]\n",
      "100%|██████████| 230/230 [03:42<00:00,  1.03it/s]\n"
     ]
    },
    {
     "name": "stdout",
     "output_type": "stream",
     "text": [
      "Epoch:  29 Train Loss_8:  0.15530598548582217 Train Accuracy_8:  62.97379066526159\n",
      "Epoch:  29 Train Loss_128:  0.009109551321744116 Train Accuracy_128:  66.67573171975388\n",
      "---------------------------------------------------------------\n"
     ]
    },
    {
     "name": "stderr",
     "output_type": "stream",
     "text": [
      "100%|██████████| 3678/3678 [05:08<00:00, 11.94it/s]\n",
      "100%|██████████| 230/230 [03:42<00:00,  1.04it/s]\n"
     ]
    },
    {
     "name": "stdout",
     "output_type": "stream",
     "text": [
      "Epoch:  30 Train Loss_8:  0.15569952418139008 Train Accuracy_8:  63.12336404120067\n",
      "Epoch:  30 Train Loss_128:  0.0090636149113137 Train Accuracy_128:  67.24683006424857\n",
      "---------------------------------------------------------------\n"
     ]
    },
    {
     "name": "stderr",
     "output_type": "stream",
     "text": [
      "100%|██████████| 3678/3678 [05:08<00:00, 11.92it/s]\n",
      "100%|██████████| 230/230 [03:42<00:00,  1.03it/s]\n"
     ]
    },
    {
     "name": "stdout",
     "output_type": "stream",
     "text": [
      "Epoch:  31 Train Loss_8:  0.1544793125166139 Train Accuracy_8:  63.466702926879016\n",
      "Epoch:  31 Train Loss_128:  0.00895337653921135 Train Accuracy_128:  67.14824761192509\n",
      "---------------------------------------------------------------\n"
     ]
    },
    {
     "name": "stderr",
     "output_type": "stream",
     "text": [
      "100%|██████████| 3678/3678 [05:10<00:00, 11.86it/s]\n",
      "100%|██████████| 230/230 [03:42<00:00,  1.03it/s]\n"
     ]
    },
    {
     "name": "stdout",
     "output_type": "stream",
     "text": [
      "Epoch:  32 Train Loss_8:  0.15366830477137638 Train Accuracy_8:  63.50409627086378\n",
      "Epoch:  32 Train Loss_128:  0.00891359435444998 Train Accuracy_128:  67.29102219804875\n",
      "---------------------------------------------------------------\n"
     ]
    },
    {
     "name": "stderr",
     "output_type": "stream",
     "text": [
      "100%|██████████| 3678/3678 [05:08<00:00, 11.92it/s]\n",
      "100%|██████████| 230/230 [03:42<00:00,  1.03it/s]\n"
     ]
    },
    {
     "name": "stdout",
     "output_type": "stream",
     "text": [
      "Epoch:  33 Train Loss_8:  0.15356734731781146 Train Accuracy_8:  63.510895060679196\n",
      "Epoch:  33 Train Loss_128:  0.008825582020886633 Train Accuracy_128:  68.19526124349866\n",
      "---------------------------------------------------------------\n"
     ]
    },
    {
     "name": "stderr",
     "output_type": "stream",
     "text": [
      "100%|██████████| 3678/3678 [05:07<00:00, 11.95it/s]\n",
      "100%|██████████| 230/230 [03:42<00:00,  1.03it/s]\n"
     ]
    },
    {
     "name": "stdout",
     "output_type": "stream",
     "text": [
      "Epoch:  34 Train Loss_8:  0.15259148280021712 Train Accuracy_8:  63.64687085698746\n",
      "Epoch:  34 Train Loss_128:  0.008673091328970357 Train Accuracy_128:  68.3244382499915\n",
      "---------------------------------------------------------------\n"
     ]
    },
    {
     "name": "stderr",
     "output_type": "stream",
     "text": [
      "100%|██████████| 3678/3678 [05:05<00:00, 12.02it/s]\n",
      "100%|██████████| 230/230 [03:42<00:00,  1.03it/s]\n"
     ]
    },
    {
     "name": "stdout",
     "output_type": "stream",
     "text": [
      "Epoch:  35 Train Loss_8:  0.15145285826883167 Train Accuracy_8:  63.7760478634803\n",
      "Epoch:  35 Train Loss_128:  0.008604243316158267 Train Accuracy_128:  69.0111160213482\n",
      "---------------------------------------------------------------\n"
     ]
    },
    {
     "name": "stderr",
     "output_type": "stream",
     "text": [
      "100%|██████████| 3678/3678 [05:07<00:00, 11.98it/s]\n",
      "100%|██████████| 230/230 [03:42<00:00,  1.03it/s]\n"
     ]
    },
    {
     "name": "stdout",
     "output_type": "stream",
     "text": [
      "Epoch:  36 Train Loss_8:  0.1505552321235794 Train Accuracy_8:  64.21117041166671\n",
      "Epoch:  36 Train Loss_128:  0.008467981584918982 Train Accuracy_128:  69.51422646768876\n",
      "---------------------------------------------------------------\n"
     ]
    },
    {
     "name": "stderr",
     "output_type": "stream",
     "text": [
      "100%|██████████| 3678/3678 [05:08<00:00, 11.94it/s]\n",
      "100%|██████████| 230/230 [03:42<00:00,  1.03it/s]\n"
     ]
    },
    {
     "name": "stdout",
     "output_type": "stream",
     "text": [
      "Epoch:  37 Train Loss_8:  0.14980852095184877 Train Accuracy_8:  64.0887921949893\n",
      "Epoch:  37 Train Loss_128:  0.008343328237655141 Train Accuracy_128:  69.95614780569058\n",
      "---------------------------------------------------------------\n"
     ]
    },
    {
     "name": "stderr",
     "output_type": "stream",
     "text": [
      "100%|██████████| 3678/3678 [05:08<00:00, 11.94it/s]\n",
      "100%|██████████| 230/230 [03:42<00:00,  1.03it/s]\n"
     ]
    },
    {
     "name": "stdout",
     "output_type": "stream",
     "text": [
      "Epoch:  38 Train Loss_8:  0.1487784846458671 Train Accuracy_8:  64.50011897882177\n",
      "Epoch:  38 Train Loss_128:  0.008244509022966194 Train Accuracy_128:  70.24849576775334\n",
      "---------------------------------------------------------------\n"
     ]
    },
    {
     "name": "stderr",
     "output_type": "stream",
     "text": [
      "100%|██████████| 3678/3678 [05:06<00:00, 11.98it/s]\n",
      "100%|██████████| 230/230 [03:42<00:00,  1.03it/s]\n"
     ]
    },
    {
     "name": "stdout",
     "output_type": "stream",
     "text": [
      "Epoch:  39 Train Loss_8:  0.14666089739640484 Train Accuracy_8:  65.11540945711664\n",
      "Epoch:  39 Train Loss_128:  0.008107820396278751 Train Accuracy_128:  70.58163646870858\n",
      "---------------------------------------------------------------\n"
     ]
    },
    {
     "name": "stderr",
     "output_type": "stream",
     "text": [
      "100%|██████████| 3678/3678 [05:07<00:00, 11.97it/s]\n",
      "100%|██████████| 230/230 [03:42<00:00,  1.03it/s]\n"
     ]
    },
    {
     "name": "stdout",
     "output_type": "stream",
     "text": [
      "Epoch:  40 Train Loss_8:  0.14569029399978436 Train Accuracy_8:  65.05761974368562\n",
      "Epoch:  40 Train Loss_128:  0.007981317570602019 Train Accuracy_128:  71.48587551415848\n",
      "---------------------------------------------------------------\n"
     ]
    },
    {
     "name": "stderr",
     "output_type": "stream",
     "text": [
      "100%|██████████| 3678/3678 [05:06<00:00, 11.99it/s]\n",
      "100%|██████████| 230/230 [03:42<00:00,  1.03it/s]\n"
     ]
    },
    {
     "name": "stdout",
     "output_type": "stream",
     "text": [
      "Epoch:  41 Train Loss_8:  0.14430225807519337 Train Accuracy_8:  65.54713261039535\n",
      "Epoch:  41 Train Loss_128:  0.007863374988660816 Train Accuracy_128:  71.77142468640582\n",
      "---------------------------------------------------------------\n"
     ]
    },
    {
     "name": "stderr",
     "output_type": "stream",
     "text": [
      "100%|██████████| 3678/3678 [05:07<00:00, 11.94it/s]\n",
      "100%|██████████| 230/230 [03:42<00:00,  1.03it/s]\n"
     ]
    },
    {
     "name": "stdout",
     "output_type": "stream",
     "text": [
      "Epoch:  42 Train Loss_8:  0.14254486029805888 Train Accuracy_8:  65.59132474419553\n",
      "Epoch:  42 Train Loss_128:  0.007681137629943162 Train Accuracy_128:  72.42070911377775\n",
      "---------------------------------------------------------------\n"
     ]
    },
    {
     "name": "stderr",
     "output_type": "stream",
     "text": [
      "100%|██████████| 3678/3678 [05:09<00:00, 11.90it/s]\n",
      "100%|██████████| 230/230 [03:42<00:00,  1.03it/s]\n"
     ]
    },
    {
     "name": "stdout",
     "output_type": "stream",
     "text": [
      "Epoch:  43 Train Loss_8:  0.1407549322476121 Train Accuracy_8:  66.56015229289186\n",
      "Epoch:  43 Train Loss_128:  0.007614043521845443 Train Accuracy_128:  72.75724920964069\n",
      "---------------------------------------------------------------\n"
     ]
    },
    {
     "name": "stderr",
     "output_type": "stream",
     "text": [
      "100%|██████████| 3678/3678 [05:09<00:00, 11.90it/s]\n",
      "100%|██████████| 230/230 [03:42<00:00,  1.03it/s]\n"
     ]
    },
    {
     "name": "stdout",
     "output_type": "stream",
     "text": [
      "Epoch:  44 Train Loss_8:  0.1384759416044717 Train Accuracy_8:  67.07346092395554\n",
      "Epoch:  44 Train Loss_128:  0.007476395752135191 Train Accuracy_128:  73.40653363701261\n",
      "---------------------------------------------------------------\n"
     ]
    },
    {
     "name": "stderr",
     "output_type": "stream",
     "text": [
      "100%|██████████| 3678/3678 [05:07<00:00, 11.94it/s]\n",
      "100%|██████████| 230/230 [03:42<00:00,  1.03it/s]\n"
     ]
    },
    {
     "name": "stdout",
     "output_type": "stream",
     "text": [
      "Epoch:  45 Train Loss_8:  0.1357860810547904 Train Accuracy_8:  67.71594656151206\n",
      "Epoch:  45 Train Loss_128:  0.007267037915329227 Train Accuracy_128:  74.1476017268926\n",
      "---------------------------------------------------------------\n"
     ]
    },
    {
     "name": "stderr",
     "output_type": "stream",
     "text": [
      "100%|██████████| 3678/3678 [05:06<00:00, 11.99it/s]\n",
      "100%|██████████| 230/230 [03:42<00:00,  1.03it/s]\n"
     ]
    },
    {
     "name": "stdout",
     "output_type": "stream",
     "text": [
      "Epoch:  46 Train Loss_8:  0.13430101424430316 Train Accuracy_8:  67.99129754903626\n",
      "Epoch:  46 Train Loss_128:  0.007114677580839821 Train Accuracy_128:  74.64391338341775\n",
      "---------------------------------------------------------------\n"
     ]
    },
    {
     "name": "stderr",
     "output_type": "stream",
     "text": [
      "100%|██████████| 3678/3678 [05:08<00:00, 11.94it/s]\n",
      "100%|██████████| 230/230 [03:42<00:00,  1.03it/s]\n"
     ]
    },
    {
     "name": "stdout",
     "output_type": "stream",
     "text": [
      "Epoch:  47 Train Loss_8:  0.13192029051979348 Train Accuracy_8:  68.61678621205427\n",
      "Epoch:  47 Train Loss_128:  0.007080978386730455 Train Accuracy_128:  74.94645953020363\n",
      "---------------------------------------------------------------\n"
     ]
    },
    {
     "name": "stderr",
     "output_type": "stream",
     "text": [
      "100%|██████████| 3678/3678 [05:06<00:00, 12.00it/s]\n",
      "100%|██████████| 230/230 [03:42<00:00,  1.03it/s]\n"
     ]
    },
    {
     "name": "stdout",
     "output_type": "stream",
     "text": [
      "Epoch:  48 Train Loss_8:  0.12887440084353396 Train Accuracy_8:  69.35785430193425\n",
      "Epoch:  48 Train Loss_128:  0.006783563873034126 Train Accuracy_128:  75.97647618723867\n",
      "---------------------------------------------------------------\n"
     ]
    },
    {
     "name": "stderr",
     "output_type": "stream",
     "text": [
      "100%|██████████| 3678/3678 [05:06<00:00, 11.98it/s]\n",
      "100%|██████████| 230/230 [03:42<00:00,  1.03it/s]\n"
     ]
    },
    {
     "name": "stdout",
     "output_type": "stream",
     "text": [
      "Epoch:  49 Train Loss_8:  0.12700071408683627 Train Accuracy_8:  69.68419621307407\n",
      "Epoch:  49 Train Loss_128:  0.006743507033181871 Train Accuracy_128:  76.21443383077812\n",
      "---------------------------------------------------------------\n"
     ]
    },
    {
     "data": {
      "image/png": "[encoded data removed]",
      "text/plain": [
       "<Figure size 640x480 with 1 Axes>"
      ]
     },
     "metadata": {},
     "output_type": "display_data"
    },
    {
     "data": {
      "image/png": "[encoded data removed]",
      "text/plain": [
       "<Figure size 640x480 with 1 Axes>"
      ]
     },
     "metadata": {},
     "output_type": "display_data"
    }
   ],
   "source": [
    "# import torch.cuda as cuda\n",
    "\n",
    "def training():\n",
    "    transform = transforms.Compose([\n",
    "    transforms.Resize((256, 256)),\n",
    "    transforms.ToTensor(),\n",
    "    transforms.Normalize(mean=[0.485, 0.456, 0.406], std=[0.229, 0.224, 0.225])\n",
    "    ])\n",
    "\n",
    "    train_dataset = torchvision.datasets.ImageFolder(root='/kaggle/input/indian-birds-25/Birds_25/train', transform=transform)\n",
    "    train_loader = DataLoader(train_dataset, batch_size=8, shuffle=True, num_workers=num_workers)\n",
    "\n",
    "    train_dataset2 = torchvision.datasets.ImageFolder(root='/kaggle/input/indian-birds-25/Birds_25/train', transform=transform)\n",
    "    train_loader2 = DataLoader(train_dataset2, batch_size=128, shuffle=True, num_workers=num_workers)\n",
    "    \n",
    "    print(\"Train Data: \", len(train_dataset))\n",
    "\n",
    "    net = final_resnet(3, r=25, n=2, norm_type='batch')\n",
    "    net = nn.DataParallel(net)\n",
    "    \n",
    "    net = net.to(device)\n",
    "\n",
    "    criterion = nn.CrossEntropyLoss()\n",
    "    optimizer = optim.Adam(net.parameters(), lr=0.0001)\n",
    "    scheduler = optim.lr_scheduler.CosineAnnealingLR(optimizer, T_max=50, eta_min=0.00001)\n",
    "\n",
    "    train_loss = []\n",
    "    train_loss2 = []\n",
    "    train_accuracy = []\n",
    "    train_accuracy2 = []\n",
    "\n",
    "    print(\"------------------------Training Started------------------------\")\n",
    "    for epoch in range(num_epochs):\n",
    "        net.train()\n",
    "        running_loss = 0.0\n",
    "        correct = 0\n",
    "        total = 0\n",
    "        for i, data in enumerate(tqdm(train_loader)):\n",
    "            inputs, labels = data\n",
    "            inputs, labels = inputs.to(device), labels.to(device)\n",
    "            optimizer.zero_grad()\n",
    "            outputs = net(inputs)\n",
    "            loss = criterion(outputs, labels)\n",
    "            loss.backward()\n",
    "            optimizer.step()\n",
    "            running_loss += loss.item()\n",
    "            _, predicted = torch.max(outputs, 1)\n",
    "            total += labels.size(0)\n",
    "            correct += (predicted == labels).sum().item()\n",
    "        scheduler.step()\n",
    "        train_loss.append(running_loss/total)\n",
    "        train_accuracy.append((correct/total)*100)\n",
    "\n",
    "        running_loss = 0.0\n",
    "        correct = 0\n",
    "        total = 0\n",
    "        for i, data in enumerate(tqdm(train_loader2)):\n",
    "            inputs, labels = data\n",
    "            inputs, labels = inputs.to(device), labels.to(device)\n",
    "            optimizer.zero_grad()\n",
    "            outputs = net(inputs)\n",
    "            loss = criterion(outputs, labels)\n",
    "            loss.backward()\n",
    "            optimizer.step()\n",
    "            running_loss += loss.item()\n",
    "            _, predicted = torch.max(outputs, 1)\n",
    "            total += labels.size(0)\n",
    "            correct += (predicted == labels).sum().item()\n",
    "        scheduler.step()\n",
    "        train_loss2.append(running_loss/total)\n",
    "        train_accuracy2.append((correct/total)*100)\n",
    "        \n",
    "#         torch.cuda.empty_cache()\n",
    "\n",
    "        print(\"Epoch: \", epoch, \"Train Loss_8: \", train_loss[-1], \"Train Accuracy_8: \", train_accuracy[-1])\n",
    "\n",
    "        print(\"Epoch: \", epoch, \"Train Loss_128: \", train_loss2[-1], \"Train Accuracy_128: \", train_accuracy2[-1])\n",
    "\n",
    "        print(\"---------------------------------------------------------------\")\n",
    "\n",
    "        with open('Part2-train_BN(8,128)', 'a') as f:\n",
    "            f.write(\"Epoch: \" + str(epoch) + \" Train Loss_8: \" + str(train_loss[-1]) + \" Train Accuracy_8: \" + str(train_accuracy[-1]) + \"\\n\")\n",
    "            f.write(\"Epoch: \" + str(epoch) + \" Train Loss_128: \" + str(train_loss2[-1]) + \" Train Accuracy_128: \" + str(train_accuracy2[-1]) + \"\\n\")\n",
    "            f.write(\"---------------------------------------------------------------\\n\")\n",
    "\n",
    "    plt.plot(train_loss, label='Trainloss_BN_8')\n",
    "    plt.plot(train_loss2, label='Trainloss_BN_128')\n",
    "    plt.legend()\n",
    "    plt.show()\n",
    "\n",
    "    plt.plot(train_accuracy, label='Trainacc_BN_8')\n",
    "    plt.plot(train_accuracy2, label='Trainacc_BN_128')\n",
    "    plt.legend()\n",
    "    plt.show()\n",
    "\n",
    "\n",
    "training()"
   ]
  }
 ],
 "metadata": {
  "kaggle": {
   "accelerator": "nvidiaTeslaT4",
   "dataSources": [
    {
     "datasetId": 4693389,
     "sourceId": 7975238,
     "sourceType": "datasetVersion"
    }
   ],
   "dockerImageVersionId": 30674,
   "isGpuEnabled": true,
   "isInternetEnabled": true,
   "language": "python",
   "sourceType": "notebook"
  },
  "kernelspec": {
   "display_name": "Python 3",
   "language": "python",
   "name": "python3"
  },
  "language_info": {
   "codemirror_mode": {
    "name": "ipython",
    "version": 3
   },
   "file_extension": ".py",
   "mimetype": "text/x-python",
   "name": "python",
   "nbconvert_exporter": "python",
   "pygments_lexer": "ipython3",
   "version": "3.10.13"
  },
  "papermill": {
   "default_parameters": {},
   "duration": 26548.059891,
   "end_time": "2024-03-31T01:27:18.994375",
   "environment_variables": {},
   "exception": true,
   "input_path": "__notebook__.ipynb",
   "output_path": "__notebook__.ipynb",
   "parameters": {},
   "start_time": "2024-03-30T18:04:50.934484",
   "version": "2.5.0"
  }
 },
 "nbformat": 4,
 "nbformat_minor": 5
}
